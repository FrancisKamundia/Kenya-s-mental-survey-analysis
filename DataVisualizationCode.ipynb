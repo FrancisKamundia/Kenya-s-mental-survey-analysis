{
 "cells": [
  {
   "cell_type": "markdown",
   "id": "6c90d780",
   "metadata": {},
   "source": [
    "#   <font color='blue'>1. Research topic and background.</font> "
   ]
  },
  {
   "cell_type": "markdown",
   "id": "8d091a64",
   "metadata": {},
   "source": [
    "##  <font color='green'>a). Introduction.</font>"
   ]
  },
  {
   "cell_type": "markdown",
   "id": "28632b49",
   "metadata": {},
   "source": [
    "### Overview of the topic."
   ]
  },
  {
   "cell_type": "markdown",
   "id": "69cd7562",
   "metadata": {},
   "source": [
    "The World Health Organization characterizes mental health disorders by a combination of abnormal thoughts, perception, emotions, behavior and relationships with others in the society. Mental health disorders include the following conditions, depression, bipolar disorder, schizophrenia and other psychoses dementia and developmental disorders including autism (World Health Organization (WHO), 2019). The prevalence of mental health disorders among individuals has affected many regardless of geographical location,employment status, religion or sex. These mental health disorders have affected individuals to the extent of some attempting suicide with a good number of them succeeding in commiting the act. Governments and non governmental organisations have initiated steps towards trying to curb the prevalence of mental health disorders in the general population, some of these steps include setting up rehabilitation centers to combat drug and substance abuse. \n",
    "\n",
    "The application of modern technology such as artificial inteligence which is part of machine learning has also helped ease the effects of the mental health disorders in both the patients and health care providers. Despite mental health disorders being the 5th largest disease burden globally and it being in the top three disease burdens in most countries in the world (Datoni et al, 2021) its awareness is still low among the world population especially in low income countries."
   ]
  },
  {
   "cell_type": "markdown",
   "id": "79ecf052",
   "metadata": {},
   "source": [
    "### Relevant news or research articles. "
   ]
  },
  {
   "cell_type": "markdown",
   "id": "61d29d86",
   "metadata": {},
   "source": [
    "Major depression being one of the most common mental illnesses in the world has led to some serious effects in individuals, the New York Times has concluded that, globally symptoms of anxiety and depression doubled during the pandemic. For example between the period of 2011-2015 in the united states emergency room visits related to depression, anxiety and similar conditions increased by 28 percent.\n",
    "\n",
    "Suicide being the fourth leading cause of death among 14-19 year olds globally has an estimated 700,000 people attempting it yearly for every succesful suicide attempt there are many more attempting it this is according to the WHO, 2021. WHO has also noted that 77% of suicide deaths occur in low and middle income countries, the link between suicide and mental  disorders has been established with other causes being personal crisis such as financial crisis and relationship breakups.\n",
    "\n",
    "W.H.O has noted that due to new technologies that were unimaginable a decade ago, increasing pressure for cost efficiencies and higher productivity. The extent and pace of change can however when coupled with a working environment that take accounts of peoples mental weel being can lead to physical and mental disorders, harmful use of alcohol and other substance. The W.H.O estimates that depression and anxiety being two of the most common mental health disoders cost the global economy an estimated 1 trillion U.S dollars yearly. "
   ]
  },
  {
   "cell_type": "markdown",
   "id": "7b7672d8",
   "metadata": {},
   "source": [
    "### Motivation. "
   ]
  },
  {
   "cell_type": "markdown",
   "id": "9a5c5b81",
   "metadata": {},
   "source": [
    "Individuals suffering from mental health disorders for long have been ignored and these has led to some unexpected occurrences, these include:\n",
    "- (WHO, 2021) has suggested that more than 700,000 people die from suicide every year, it has also pointed out that for every suicide there are many more people who attempt suicide. Suicide is the fourth leading cause of death among 15- to 19-year-old individuals. This has been associated with mental health disorders, it has been established that individuals who suffer from depression and those that indulge in drug and substance abuse are more likely to attempt suicide which is the strongest risk factor.\n",
    "\n",
    "- Labelling of individuals suffering from mental health disorders in Kenya as ‘mad people’ has led to most of them suffering from stigma. This has also increased the depression rates among them especially those individuals already suffering from diseases such as the HIV/AIDS. According to the centers for disease control and prevention (CDC), HIV stigma and discrimination affect the emotional well being and mental health of people living with HIV. American psychiatry association has pointed out that more than half of the people with mental health illnesses don’t receive help for their disorders this is because they delay seeking treatment due to concerns that they will be treated differently or the fear of losing their job and livelihood.\n",
    "\n",
    "With the above factors stated and the fact that I have met individuals suffering from mental health disorders both friends and family who were in distress with the need for immediate medical assistance but no way of accessing it, I have decided to conduct this study to find a way of detecting individuals with mental health diseases at earlier stages."
   ]
  },
  {
   "cell_type": "markdown",
   "id": "6a75cd2a",
   "metadata": {},
   "source": [
    "### Objectives"
   ]
  },
  {
   "cell_type": "markdown",
   "id": "53c1fcae",
   "metadata": {},
   "source": [
    "The need to increase mental health awareness especially in the workplace and the general population is of great importance this is due to the fact that more than 10% of the world population experience mental health dioders while only 44% of the world population has some knowldge about mental health disorders. Increasing mental health awarenes is key to solving disoders related to mental health, hence we will be looking to incraese mental health awareness through our study.\n",
    "\n",
    "The stigma associated with people identified from society especially in low income countries such as Kenya where some of the individuals experiencing these disoders might be branded as mad men since they lack the necessary mental health services to help them overcome these illnesses. Reducing stigma in individuals experiencing disorders through identification of variables that may lead to an individual experiencing mental health disorders will be key."
   ]
  },
  {
   "cell_type": "markdown",
   "id": "5986c4ac",
   "metadata": {},
   "source": [
    "### Overview of key findings."
   ]
  },
  {
   "cell_type": "markdown",
   "id": "e56d905f",
   "metadata": {},
   "source": [
    "The research and statistics done on mental health awareness in the past have proven to be useful in trying to predict future trends regarding mental health in the global population. Some of these useful findings that i have found are;\n",
    "\n",
    "- Mental health disoders are directly related to suicide cases globally, 60% of suicide cases are caused by individuals with a history of major depressive disoders (WHO, 2021). 77% occur in middle and low income countries disapproving the fact that suicide is done in high income countries. WHO has suggested that about 700,000 people commit suicide annualy with there being more suicide attempts for each succesful suicide case. \n",
    "\n",
    "- Mental health disoders are more common in women than men, although men and women experience mental health and substance use disoders most illnesses classified under such as anxiety disoders, major depressive disoders and eating disoders are more common in women than men, but substance use dioders such as addiction are more common in men this is according to data available on institute of health metrics and evaluation (IHME)."
   ]
  },
  {
   "cell_type": "markdown",
   "id": "2f377e73",
   "metadata": {},
   "source": [
    "## <font color='green'> b) Research questions.</font>"
   ]
  },
  {
   "cell_type": "markdown",
   "id": "aecf4aff",
   "metadata": {},
   "source": [
    "### Population and sampling method."
   ]
  },
  {
   "cell_type": "markdown",
   "id": "13ab7eb2",
   "metadata": {},
   "source": [
    "We will use simple random sampling in our study this will be through following the following steps so as to achieve it.\n",
    "\n",
    "We will define our target population that is Kenyans between the ages of 18 to 50 years old this is so because this age group are the most affected by cases of mental health disorders and they make up 60% percent of the population (Aron O’Neill, 2021). From the target population stated above we will choose a simple random sample of n samples. This is number is dependent on our budget and the time that is allocated for the study.\n",
    "\n",
    "Simple random sampling method was chosen because of its simplicity and prevents the researcher from displaying bias. Though its simple to conduct it is time consuming and we will be anticipating difficulty in accessing the full list of the population."
   ]
  },
  {
   "cell_type": "markdown",
   "id": "aa13c464",
   "metadata": {},
   "source": [
    "### Research questions."
   ]
  },
  {
   "cell_type": "markdown",
   "id": "72dd2d4c",
   "metadata": {},
   "source": [
    "Mental health awareness being the first step to be fulfilled in fighting mental health disorders will be key, so as to help individuals identify if they have mental health diseases, we will first need to educate them about mental health disorders in general. The first question to our research rises from here and we will need to answer it, What is the level of mental health awareness in Kenya?\n",
    "\n",
    "Application of machine learning in also treating and predicting diseases also presents itself in other forms such as the detection of melanoma using deep learning models such as the convolutional neuro network (CNN) models (Nay chi Lyn et al, 2017). With proper data collection methods, the creation of models that can predict the occurrence of mental disorders in individuals also occurs if it is possible. Hence the question of how can unstructured supplementary service data (USSD) be applied in low-income countries like Kenya be used to ease data collection in low-income countries?\n",
    "\n",
    "Depression is one of the most prevalent mental disorders, (saloni dattani et al, 2021) havefound out that globally about 792 million people have mental disorders this is about 1 in every ten people suffer from mental disorders, among these those suffering with major depressive disorders are 280 million. The question of how severe is depression in individuals\n",
    "between the age of 18 to 50 years in low-income countries arises?\n",
    "\n",
    "It is undeniable to say that the effects of mental health disorders have been felt by everyone even in the workplace. Both employers and employees have suffered from the effects of mental health diseases, with some of the factors that contribute to both parties suffering is a toxic working environment. Hence the question of what steps have been taken in theworkplace to ensure that mental health is of importance?"
   ]
  },
  {
   "cell_type": "markdown",
   "id": "4206fa2a",
   "metadata": {},
   "source": [
    "## <font color='green'>c) Domain concepts.</font>"
   ]
  },
  {
   "cell_type": "markdown",
   "id": "1b56b971",
   "metadata": {},
   "source": [
    "1. Mental health – mental health includes our emotional psychological and social well-being. It determines how we handle stress relate to others and make choices (mentalhealth, 2020)\n",
    "\n",
    "2. Machine learning – is the study of computer algorithms that can improve automatically through experience and by use of data. Machine learning algorithms build a model based on sample data known as training data in order to make predictions or decisions without being explicitly programmed to do so (Wikipedia).\n",
    "\n",
    "3. Mental health wellness – (Gina Marie Guarino, 2021) has suggested that mental health wellness is the awareness of one’s own ability to cope with stressors of day-to-day life while maintaining the ability to function effectively when socializing working learning and taking care of personal health and hygiene.\n",
    "\n",
    "4. Mental health disorder – during the era of Diagnstic and statistical manual of mental disoders IV (DSM-IV) the definition of mental disorder was clinically significant behavioral or psychological or biological syndromes that are associated with present distress disability or significant impairment in the important areas of functioning."
   ]
  },
  {
   "cell_type": "markdown",
   "id": "9215d3e5",
   "metadata": {},
   "source": [
    "# <font color='blue'>2. Data sources.</font>"
   ]
  },
  {
   "cell_type": "markdown",
   "id": "075b069a",
   "metadata": {},
   "source": [
    "### <font color='green'>a) Survey methodology.</font>"
   ]
  },
  {
   "cell_type": "markdown",
   "id": "c1080da7",
   "metadata": {},
   "source": [
    "So as to colllect our survey data we followed teh following survey methodology:\n",
    "- Selecting sample - Since our target population that was between teh age of 18 to 50 years old we selected a sample size for our study by From the target population stated above we will choose a simple random sample of n samples. This is number is dependent on our budget and the time that is allocated for the study. Simple random sampling method was used because of its simplicity that prevents the researcher from displaying bias. Though its simple to conduct it is time consuming and we will be anticipating difficulty in accessing the full list of the population. \n",
    "- Research designs -The research design that was apllied was the Cross sectional study here a sample was chosen from the relevant population A cross-sectional study described characteristics of our population at one time, but could not give any insight as to the causes the population characteristics because it is a predictive, correlational design. \n",
    "- Questionnaires - We then developed a questionnaire that was to filled out by respondents in our sample the questionanire included the following questions:\n",
    "        - What age bracket do you fall into?\n",
    "        - What is your gender?\n",
    "        - Are you a Kenyan citizen?\n",
    "        - Which county do you live in?\n",
    "        - Do you live within a town area or outcasts?\n",
    "        - What is the highest level of education you have completed?\n",
    "        - What would describe your occupation?\n",
    "        - How would you describe your income level?\n",
    "        - How would you describe your social life?\n",
    "        - Do you have any caring responsibilities?\n",
    "        - How far is the nearest hospital facility from where you live?\n",
    "        - How well are you vast with mental health issues?\n",
    "        - Have you ever accessed any mental health services?\n",
    "        - Are you aware of any mental health facility within a radius of 10km from your place of living?\n",
    "        - If you are to access a mental health service / facility, what would be the main reason?\n",
    "- Data collection - The data for our survey was collected using the JISC online survey and the link to the survey was sent to the our sample population.\n",
    "    "
   ]
  },
  {
   "cell_type": "markdown",
   "id": "4a7d014e",
   "metadata": {},
   "source": [
    "###  <font color='green'>b) External data.</font>"
   ]
  },
  {
   "cell_type": "markdown",
   "id": "cda8738a",
   "metadata": {},
   "source": [
    "### Data location."
   ]
  },
  {
   "cell_type": "markdown",
   "id": "325e1faa",
   "metadata": {},
   "source": [
    "The publicly obtained data was obtained from the Open Source Mental Illness (OSMI) an non governmental institution that is dedicated to fight the harmful stigma around mental health. The data can be found [here](https://www.kaggle.com/osmihelp/osmi-mental-health-in-tech-survey-2019), however the data we used here was for the whole years combined since the OSMI mental health in tech survey were introduced."
   ]
  },
  {
   "cell_type": "markdown",
   "id": "efe92fdf",
   "metadata": {},
   "source": [
    "### Data collection methodology."
   ]
  },
  {
   "cell_type": "markdown",
   "id": "7a7baaa8",
   "metadata": {},
   "source": [
    "The method that was used to collect the data was by use of an online survey on their website the survey for this year (2022) is still running and open and anyone can participate in it the location of th survey is [here](https://osmi.typeform.com/to/rgU7eKxq). OSMI conducts survey mental health survey focusing in the tech industry yearly as from the year 2014."
   ]
  },
  {
   "cell_type": "markdown",
   "id": "9ec2c399",
   "metadata": {},
   "source": [
    "### Ethical issues."
   ]
  },
  {
   "cell_type": "markdown",
   "id": "4a978521",
   "metadata": {},
   "source": [
    "The ethical issues surrounding the collection and usage of mental health data is of great concern since health data is sensitive data the collection of the data especilly the structuring of teh questions has to be neatly done so as not to trigger the respondents emotions in any way. This was taken into consideration when collecting teh OSMI data by structuring teh most of teh questions to be open ended so to avoid teh questions looking like they were attacking the respondent. The identity of the respondents was also procted by labelling the respondents with unique ids that could not identify the respondents personally. \n"
   ]
  },
  {
   "cell_type": "markdown",
   "id": "ba6bb773",
   "metadata": {},
   "source": [
    "### <font color='green'>c) Data evaluation.</font>"
   ]
  },
  {
   "cell_type": "markdown",
   "id": "e8091d65",
   "metadata": {},
   "source": [
    "# <font color='blue'>3. Data overview and pre-processing.</font>"
   ]
  },
  {
   "cell_type": "markdown",
   "id": "679e1a23",
   "metadata": {},
   "source": [
    "## <font color='green'>Data types and pre-processing.</font>"
   ]
  },
  {
   "cell_type": "markdown",
   "id": "e1eb104f",
   "metadata": {},
   "source": [
    "### Variable description."
   ]
  },
  {
   "cell_type": "code",
   "execution_count": 1,
   "id": "d57a0083",
   "metadata": {},
   "outputs": [],
   "source": [
    "# importing the libraries that we will use\n",
    "import pandas as pd\n",
    "import numpy as np\n",
    "import seaborn as sb\n",
    "import matplotlib.pyplot as plt"
   ]
  },
  {
   "cell_type": "code",
   "execution_count": 2,
   "id": "4ce136d0",
   "metadata": {},
   "outputs": [
    {
     "data": {
      "text/html": [
       "<div>\n",
       "<style scoped>\n",
       "    .dataframe tbody tr th:only-of-type {\n",
       "        vertical-align: middle;\n",
       "    }\n",
       "\n",
       "    .dataframe tbody tr th {\n",
       "        vertical-align: top;\n",
       "    }\n",
       "\n",
       "    .dataframe thead th {\n",
       "        text-align: right;\n",
       "    }\n",
       "</style>\n",
       "<table border=\"1\" class=\"dataframe\">\n",
       "  <thead>\n",
       "    <tr style=\"text-align: right;\">\n",
       "      <th></th>\n",
       "      <th>Age_bracket</th>\n",
       "      <th>Gender</th>\n",
       "      <th>Kenyan_citizen</th>\n",
       "      <th>County</th>\n",
       "      <th>Town</th>\n",
       "      <th>Level_of_education</th>\n",
       "      <th>Occupation</th>\n",
       "      <th>Income_level</th>\n",
       "      <th>Social_life</th>\n",
       "      <th>Responsibilities</th>\n",
       "      <th>Hospital</th>\n",
       "      <th>Mental_issues_know</th>\n",
       "      <th>Access_Facilities</th>\n",
       "      <th>Mental_Facilities_Km</th>\n",
       "      <th>Reason</th>\n",
       "    </tr>\n",
       "  </thead>\n",
       "  <tbody>\n",
       "    <tr>\n",
       "      <th>0</th>\n",
       "      <td>41-45</td>\n",
       "      <td>Female</td>\n",
       "      <td>Yes</td>\n",
       "      <td>Nairobi</td>\n",
       "      <td>Town area</td>\n",
       "      <td>Bachelors Degree</td>\n",
       "      <td>Self-employed</td>\n",
       "      <td>For my age group, above average</td>\n",
       "      <td>Highly social</td>\n",
       "      <td>Primary carer of a child or children (under 18...</td>\n",
       "      <td>0-5km</td>\n",
       "      <td>Have an idea</td>\n",
       "      <td>Yes</td>\n",
       "      <td>Yes</td>\n",
       "      <td>Recommend someone close to me to the service /...</td>\n",
       "    </tr>\n",
       "    <tr>\n",
       "      <th>1</th>\n",
       "      <td>41-45</td>\n",
       "      <td>Male</td>\n",
       "      <td>Yes</td>\n",
       "      <td>Nairobi</td>\n",
       "      <td>Town area</td>\n",
       "      <td>Masters Degree</td>\n",
       "      <td>Employed in an organization</td>\n",
       "      <td>For my age group, above average</td>\n",
       "      <td>I prefer my own company</td>\n",
       "      <td>Primary carer of a child or children (under 18...</td>\n",
       "      <td>0-5km</td>\n",
       "      <td>Well knowledgeable</td>\n",
       "      <td>Yes</td>\n",
       "      <td>No</td>\n",
       "      <td>Learn my mental health status</td>\n",
       "    </tr>\n",
       "    <tr>\n",
       "      <th>2</th>\n",
       "      <td>26-30</td>\n",
       "      <td>Female</td>\n",
       "      <td>Yes</td>\n",
       "      <td>Nairobi</td>\n",
       "      <td>Town area</td>\n",
       "      <td>Bachelors Degree</td>\n",
       "      <td>Employed in an organization</td>\n",
       "      <td>For my age group, would consider below average</td>\n",
       "      <td>Partly social</td>\n",
       "      <td>Prefer not to disclose</td>\n",
       "      <td>0-5km</td>\n",
       "      <td>Have an idea</td>\n",
       "      <td>No</td>\n",
       "      <td>Yes</td>\n",
       "      <td>Recommend someone close to me to the service /...</td>\n",
       "    </tr>\n",
       "    <tr>\n",
       "      <th>3</th>\n",
       "      <td>26-30</td>\n",
       "      <td>Female</td>\n",
       "      <td>Yes</td>\n",
       "      <td>Kajiado</td>\n",
       "      <td>Town area</td>\n",
       "      <td>Bachelors Degree</td>\n",
       "      <td>Self-employed</td>\n",
       "      <td>For my age group, would consider average</td>\n",
       "      <td>Partly social</td>\n",
       "      <td>Prefer not to disclose</td>\n",
       "      <td>0-5km</td>\n",
       "      <td>Have an idea</td>\n",
       "      <td>No</td>\n",
       "      <td>No</td>\n",
       "      <td>Know more about the field</td>\n",
       "    </tr>\n",
       "    <tr>\n",
       "      <th>4</th>\n",
       "      <td>26-30</td>\n",
       "      <td>Male</td>\n",
       "      <td>Yes</td>\n",
       "      <td>Nairobi</td>\n",
       "      <td>Town area</td>\n",
       "      <td>Bachelors Degree</td>\n",
       "      <td>Employed in an organization</td>\n",
       "      <td>For my age group, would consider average</td>\n",
       "      <td>Partly social</td>\n",
       "      <td>None</td>\n",
       "      <td>0-5km</td>\n",
       "      <td>Well knowledgeable</td>\n",
       "      <td>Yes</td>\n",
       "      <td>Yes</td>\n",
       "      <td>Learn my mental health status</td>\n",
       "    </tr>\n",
       "    <tr>\n",
       "      <th>5</th>\n",
       "      <td>18-25</td>\n",
       "      <td>Male</td>\n",
       "      <td>Yes</td>\n",
       "      <td>Nairobi</td>\n",
       "      <td>Town area</td>\n",
       "      <td>University Diploma</td>\n",
       "      <td>Student</td>\n",
       "      <td>For my age group, would consider below average</td>\n",
       "      <td>I prefer my own company</td>\n",
       "      <td>None</td>\n",
       "      <td>0-5km</td>\n",
       "      <td>Have not had a chance to check on mental healt...</td>\n",
       "      <td>No</td>\n",
       "      <td>No</td>\n",
       "      <td>Not interested</td>\n",
       "    </tr>\n",
       "    <tr>\n",
       "      <th>6</th>\n",
       "      <td>35-40</td>\n",
       "      <td>Male</td>\n",
       "      <td>Yes</td>\n",
       "      <td>Kenya</td>\n",
       "      <td>Town area</td>\n",
       "      <td>Masters Degree</td>\n",
       "      <td>Employed in an organization</td>\n",
       "      <td>For my age group, above average</td>\n",
       "      <td>Partly social</td>\n",
       "      <td>Primary carer of a child or children (under 18...</td>\n",
       "      <td>0-5km</td>\n",
       "      <td>Well knowledgeable</td>\n",
       "      <td>Yes</td>\n",
       "      <td>No</td>\n",
       "      <td>Learn my mental health status</td>\n",
       "    </tr>\n",
       "    <tr>\n",
       "      <th>7</th>\n",
       "      <td>26-30</td>\n",
       "      <td>Male</td>\n",
       "      <td>Yes</td>\n",
       "      <td>Nairobi</td>\n",
       "      <td>Town area</td>\n",
       "      <td>Bachelors Degree</td>\n",
       "      <td>Employed in an organization</td>\n",
       "      <td>For my age group, would consider average</td>\n",
       "      <td>Highly social</td>\n",
       "      <td>None</td>\n",
       "      <td>0-5km</td>\n",
       "      <td>Have an idea</td>\n",
       "      <td>No</td>\n",
       "      <td>Yes</td>\n",
       "      <td>Learn my mental health status</td>\n",
       "    </tr>\n",
       "    <tr>\n",
       "      <th>8</th>\n",
       "      <td>26-30</td>\n",
       "      <td>Female</td>\n",
       "      <td>Yes</td>\n",
       "      <td>Kajiado</td>\n",
       "      <td>Town area</td>\n",
       "      <td>Bachelors Degree</td>\n",
       "      <td>Employed in an organization</td>\n",
       "      <td>For my age group, would consider average</td>\n",
       "      <td>Partly social</td>\n",
       "      <td>Primary carer of a child or children (under 18...</td>\n",
       "      <td>0-5km</td>\n",
       "      <td>Have not had a chance to check on mental healt...</td>\n",
       "      <td>No</td>\n",
       "      <td>No</td>\n",
       "      <td>Recommend someone close to me to the service /...</td>\n",
       "    </tr>\n",
       "    <tr>\n",
       "      <th>9</th>\n",
       "      <td>26-30</td>\n",
       "      <td>Female</td>\n",
       "      <td>Yes</td>\n",
       "      <td>Nairobi</td>\n",
       "      <td>Town area</td>\n",
       "      <td>Bachelors Degree</td>\n",
       "      <td>Self-employed</td>\n",
       "      <td>For my age group, would consider average</td>\n",
       "      <td>Partly social</td>\n",
       "      <td>Prefer not to disclose</td>\n",
       "      <td>0-5km</td>\n",
       "      <td>Have an idea</td>\n",
       "      <td>No</td>\n",
       "      <td>No</td>\n",
       "      <td>Know more about the field</td>\n",
       "    </tr>\n",
       "  </tbody>\n",
       "</table>\n",
       "</div>"
      ],
      "text/plain": [
       "  Age_bracket  Gender Kenyan_citizen   County       Town  Level_of_education  \\\n",
       "0       41-45  Female            Yes  Nairobi  Town area    Bachelors Degree   \n",
       "1       41-45    Male            Yes  Nairobi  Town area      Masters Degree   \n",
       "2       26-30  Female            Yes  Nairobi  Town area    Bachelors Degree   \n",
       "3       26-30  Female            Yes  Kajiado  Town area    Bachelors Degree   \n",
       "4       26-30    Male            Yes  Nairobi  Town area    Bachelors Degree   \n",
       "5       18-25    Male            Yes  Nairobi  Town area  University Diploma   \n",
       "6       35-40    Male            Yes    Kenya  Town area      Masters Degree   \n",
       "7       26-30    Male            Yes  Nairobi  Town area    Bachelors Degree   \n",
       "8       26-30  Female            Yes  Kajiado  Town area    Bachelors Degree   \n",
       "9       26-30  Female            Yes  Nairobi  Town area    Bachelors Degree   \n",
       "\n",
       "                    Occupation  \\\n",
       "0                Self-employed   \n",
       "1  Employed in an organization   \n",
       "2  Employed in an organization   \n",
       "3                Self-employed   \n",
       "4  Employed in an organization   \n",
       "5                      Student   \n",
       "6  Employed in an organization   \n",
       "7  Employed in an organization   \n",
       "8  Employed in an organization   \n",
       "9                Self-employed   \n",
       "\n",
       "                                     Income_level              Social_life  \\\n",
       "0                 For my age group, above average            Highly social   \n",
       "1                 For my age group, above average  I prefer my own company   \n",
       "2  For my age group, would consider below average            Partly social   \n",
       "3        For my age group, would consider average            Partly social   \n",
       "4        For my age group, would consider average            Partly social   \n",
       "5  For my age group, would consider below average  I prefer my own company   \n",
       "6                 For my age group, above average            Partly social   \n",
       "7        For my age group, would consider average            Highly social   \n",
       "8        For my age group, would consider average            Partly social   \n",
       "9        For my age group, would consider average            Partly social   \n",
       "\n",
       "                                    Responsibilities Hospital  \\\n",
       "0  Primary carer of a child or children (under 18...    0-5km   \n",
       "1  Primary carer of a child or children (under 18...    0-5km   \n",
       "2                             Prefer not to disclose    0-5km   \n",
       "3                             Prefer not to disclose    0-5km   \n",
       "4                                               None    0-5km   \n",
       "5                                               None    0-5km   \n",
       "6  Primary carer of a child or children (under 18...    0-5km   \n",
       "7                                               None    0-5km   \n",
       "8  Primary carer of a child or children (under 18...    0-5km   \n",
       "9                             Prefer not to disclose    0-5km   \n",
       "\n",
       "                                  Mental_issues_know Access_Facilities  \\\n",
       "0                                       Have an idea               Yes   \n",
       "1                                 Well knowledgeable               Yes   \n",
       "2                                       Have an idea                No   \n",
       "3                                       Have an idea                No   \n",
       "4                                 Well knowledgeable               Yes   \n",
       "5  Have not had a chance to check on mental healt...                No   \n",
       "6                                 Well knowledgeable               Yes   \n",
       "7                                       Have an idea                No   \n",
       "8  Have not had a chance to check on mental healt...                No   \n",
       "9                                       Have an idea                No   \n",
       "\n",
       "  Mental_Facilities_Km                                             Reason  \n",
       "0                  Yes  Recommend someone close to me to the service /...  \n",
       "1                   No                      Learn my mental health status  \n",
       "2                  Yes  Recommend someone close to me to the service /...  \n",
       "3                   No                          Know more about the field  \n",
       "4                  Yes                      Learn my mental health status  \n",
       "5                   No                                     Not interested  \n",
       "6                   No                      Learn my mental health status  \n",
       "7                  Yes                      Learn my mental health status  \n",
       "8                   No  Recommend someone close to me to the service /...  \n",
       "9                   No                          Know more about the field  "
      ]
     },
     "execution_count": 2,
     "metadata": {},
     "output_type": "execute_result"
    }
   ],
   "source": [
    "#importing the survey data and viewing the first ten rows\n",
    "s_data = pd.read_excel('survey_data2.xlsx')\n",
    "s_data.head(10)"
   ]
  },
  {
   "cell_type": "code",
   "execution_count": 3,
   "id": "da8514a7",
   "metadata": {},
   "outputs": [
    {
     "data": {
      "text/html": [
       "<div>\n",
       "<style scoped>\n",
       "    .dataframe tbody tr th:only-of-type {\n",
       "        vertical-align: middle;\n",
       "    }\n",
       "\n",
       "    .dataframe tbody tr th {\n",
       "        vertical-align: top;\n",
       "    }\n",
       "\n",
       "    .dataframe thead th {\n",
       "        text-align: right;\n",
       "    }\n",
       "</style>\n",
       "<table border=\"1\" class=\"dataframe\">\n",
       "  <thead>\n",
       "    <tr style=\"text-align: right;\">\n",
       "      <th></th>\n",
       "      <th>ResponseID</th>\n",
       "      <th>Are you selfemployed</th>\n",
       "      <th>How many employees does your company or organization have</th>\n",
       "      <th>Is your employer primarily a tech companyorganization</th>\n",
       "      <th>Is your primary role within your company related to techIT</th>\n",
       "      <th>Do you have previous employers</th>\n",
       "      <th>Do you have a family history of mental illness</th>\n",
       "      <th>Have you had a mental health disorder in the past</th>\n",
       "      <th>Do you currently have a mental health disorder</th>\n",
       "      <th>If yes, what conditions have you been diagnosed with</th>\n",
       "      <th>...</th>\n",
       "      <th>What country do you live in</th>\n",
       "      <th>What US state or territory do you live in</th>\n",
       "      <th>What country do you work in</th>\n",
       "      <th>What US state or territory do you work in</th>\n",
       "      <th>Which of the following best describes your work position</th>\n",
       "      <th>Do you work remotely</th>\n",
       "      <th>Question Group</th>\n",
       "      <th>Question about speaking openly about mental health vs physical health</th>\n",
       "      <th>Question</th>\n",
       "      <th>Response</th>\n",
       "    </tr>\n",
       "  </thead>\n",
       "  <tbody>\n",
       "    <tr>\n",
       "      <th>0</th>\n",
       "      <td>r00000</td>\n",
       "      <td>False</td>\n",
       "      <td>26-100</td>\n",
       "      <td>True</td>\n",
       "      <td>NaN</td>\n",
       "      <td>True</td>\n",
       "      <td>No</td>\n",
       "      <td>Yes</td>\n",
       "      <td>No</td>\n",
       "      <td>NaN</td>\n",
       "      <td>...</td>\n",
       "      <td>United Kingdom</td>\n",
       "      <td>NaN</td>\n",
       "      <td>United Kingdom</td>\n",
       "      <td>NaN</td>\n",
       "      <td>Back-end Developer</td>\n",
       "      <td>Sometimes</td>\n",
       "      <td>Resources for employees with mental health dis...</td>\n",
       "      <td>No</td>\n",
       "      <td>Does your employer provide mental health benef...</td>\n",
       "      <td>Not eligible for coverage / N/A</td>\n",
       "    </tr>\n",
       "    <tr>\n",
       "      <th>1</th>\n",
       "      <td>r00000</td>\n",
       "      <td>False</td>\n",
       "      <td>26-100</td>\n",
       "      <td>True</td>\n",
       "      <td>NaN</td>\n",
       "      <td>True</td>\n",
       "      <td>No</td>\n",
       "      <td>Yes</td>\n",
       "      <td>No</td>\n",
       "      <td>NaN</td>\n",
       "      <td>...</td>\n",
       "      <td>United Kingdom</td>\n",
       "      <td>NaN</td>\n",
       "      <td>United Kingdom</td>\n",
       "      <td>NaN</td>\n",
       "      <td>Back-end Developer</td>\n",
       "      <td>Sometimes</td>\n",
       "      <td>Resources for employees with mental health dis...</td>\n",
       "      <td>No</td>\n",
       "      <td>Do you know the options for mental health care...</td>\n",
       "      <td>NaN</td>\n",
       "    </tr>\n",
       "    <tr>\n",
       "      <th>2</th>\n",
       "      <td>r00000</td>\n",
       "      <td>False</td>\n",
       "      <td>26-100</td>\n",
       "      <td>True</td>\n",
       "      <td>NaN</td>\n",
       "      <td>True</td>\n",
       "      <td>No</td>\n",
       "      <td>Yes</td>\n",
       "      <td>No</td>\n",
       "      <td>NaN</td>\n",
       "      <td>...</td>\n",
       "      <td>United Kingdom</td>\n",
       "      <td>NaN</td>\n",
       "      <td>United Kingdom</td>\n",
       "      <td>NaN</td>\n",
       "      <td>Back-end Developer</td>\n",
       "      <td>Sometimes</td>\n",
       "      <td>Safe and supportive workplce for those with me...</td>\n",
       "      <td>No</td>\n",
       "      <td>Has your employer ever formally discussed ment...</td>\n",
       "      <td>No</td>\n",
       "    </tr>\n",
       "    <tr>\n",
       "      <th>3</th>\n",
       "      <td>r00000</td>\n",
       "      <td>False</td>\n",
       "      <td>26-100</td>\n",
       "      <td>True</td>\n",
       "      <td>NaN</td>\n",
       "      <td>True</td>\n",
       "      <td>No</td>\n",
       "      <td>Yes</td>\n",
       "      <td>No</td>\n",
       "      <td>NaN</td>\n",
       "      <td>...</td>\n",
       "      <td>United Kingdom</td>\n",
       "      <td>NaN</td>\n",
       "      <td>United Kingdom</td>\n",
       "      <td>NaN</td>\n",
       "      <td>Back-end Developer</td>\n",
       "      <td>Sometimes</td>\n",
       "      <td>Resources for employees with mental health dis...</td>\n",
       "      <td>No</td>\n",
       "      <td>Does your employer offer resources to learn mo...</td>\n",
       "      <td>No</td>\n",
       "    </tr>\n",
       "    <tr>\n",
       "      <th>4</th>\n",
       "      <td>r00000</td>\n",
       "      <td>False</td>\n",
       "      <td>26-100</td>\n",
       "      <td>True</td>\n",
       "      <td>NaN</td>\n",
       "      <td>True</td>\n",
       "      <td>No</td>\n",
       "      <td>Yes</td>\n",
       "      <td>No</td>\n",
       "      <td>NaN</td>\n",
       "      <td>...</td>\n",
       "      <td>United Kingdom</td>\n",
       "      <td>NaN</td>\n",
       "      <td>United Kingdom</td>\n",
       "      <td>NaN</td>\n",
       "      <td>Back-end Developer</td>\n",
       "      <td>Sometimes</td>\n",
       "      <td>Resources for employees with mental health dis...</td>\n",
       "      <td>No</td>\n",
       "      <td>Is your anonymity protected if you choose to t...</td>\n",
       "      <td>I don't know</td>\n",
       "    </tr>\n",
       "    <tr>\n",
       "      <th>5</th>\n",
       "      <td>r00000</td>\n",
       "      <td>False</td>\n",
       "      <td>26-100</td>\n",
       "      <td>True</td>\n",
       "      <td>NaN</td>\n",
       "      <td>True</td>\n",
       "      <td>No</td>\n",
       "      <td>Yes</td>\n",
       "      <td>No</td>\n",
       "      <td>NaN</td>\n",
       "      <td>...</td>\n",
       "      <td>United Kingdom</td>\n",
       "      <td>NaN</td>\n",
       "      <td>United Kingdom</td>\n",
       "      <td>NaN</td>\n",
       "      <td>Back-end Developer</td>\n",
       "      <td>Sometimes</td>\n",
       "      <td>Impact of mental disorders on worker productivity</td>\n",
       "      <td>No</td>\n",
       "      <td>If a mental health issue prompted you to reque...</td>\n",
       "      <td>Very easy</td>\n",
       "    </tr>\n",
       "    <tr>\n",
       "      <th>6</th>\n",
       "      <td>r00000</td>\n",
       "      <td>False</td>\n",
       "      <td>26-100</td>\n",
       "      <td>True</td>\n",
       "      <td>NaN</td>\n",
       "      <td>True</td>\n",
       "      <td>No</td>\n",
       "      <td>Yes</td>\n",
       "      <td>No</td>\n",
       "      <td>NaN</td>\n",
       "      <td>...</td>\n",
       "      <td>United Kingdom</td>\n",
       "      <td>NaN</td>\n",
       "      <td>United Kingdom</td>\n",
       "      <td>NaN</td>\n",
       "      <td>Back-end Developer</td>\n",
       "      <td>Sometimes</td>\n",
       "      <td>Speaking openly about a mental health disorder...</td>\n",
       "      <td>Yes</td>\n",
       "      <td>Do you think that discussing a mental health d...</td>\n",
       "      <td>No</td>\n",
       "    </tr>\n",
       "    <tr>\n",
       "      <th>7</th>\n",
       "      <td>r00000</td>\n",
       "      <td>False</td>\n",
       "      <td>26-100</td>\n",
       "      <td>True</td>\n",
       "      <td>NaN</td>\n",
       "      <td>True</td>\n",
       "      <td>No</td>\n",
       "      <td>Yes</td>\n",
       "      <td>No</td>\n",
       "      <td>NaN</td>\n",
       "      <td>...</td>\n",
       "      <td>United Kingdom</td>\n",
       "      <td>NaN</td>\n",
       "      <td>United Kingdom</td>\n",
       "      <td>NaN</td>\n",
       "      <td>Back-end Developer</td>\n",
       "      <td>Sometimes</td>\n",
       "      <td>NaN</td>\n",
       "      <td>Yes</td>\n",
       "      <td>Do you think that discussing a physical health...</td>\n",
       "      <td>No</td>\n",
       "    </tr>\n",
       "    <tr>\n",
       "      <th>8</th>\n",
       "      <td>r00000</td>\n",
       "      <td>False</td>\n",
       "      <td>26-100</td>\n",
       "      <td>True</td>\n",
       "      <td>NaN</td>\n",
       "      <td>True</td>\n",
       "      <td>No</td>\n",
       "      <td>Yes</td>\n",
       "      <td>No</td>\n",
       "      <td>NaN</td>\n",
       "      <td>...</td>\n",
       "      <td>United Kingdom</td>\n",
       "      <td>NaN</td>\n",
       "      <td>United Kingdom</td>\n",
       "      <td>NaN</td>\n",
       "      <td>Back-end Developer</td>\n",
       "      <td>Sometimes</td>\n",
       "      <td>Speaking openly about a mental health disorder</td>\n",
       "      <td>No</td>\n",
       "      <td>Would you feel comfortable discussing a mental...</td>\n",
       "      <td>Maybe</td>\n",
       "    </tr>\n",
       "    <tr>\n",
       "      <th>9</th>\n",
       "      <td>r00000</td>\n",
       "      <td>False</td>\n",
       "      <td>26-100</td>\n",
       "      <td>True</td>\n",
       "      <td>NaN</td>\n",
       "      <td>True</td>\n",
       "      <td>No</td>\n",
       "      <td>Yes</td>\n",
       "      <td>No</td>\n",
       "      <td>NaN</td>\n",
       "      <td>...</td>\n",
       "      <td>United Kingdom</td>\n",
       "      <td>NaN</td>\n",
       "      <td>United Kingdom</td>\n",
       "      <td>NaN</td>\n",
       "      <td>Back-end Developer</td>\n",
       "      <td>Sometimes</td>\n",
       "      <td>Speaking openly about a mental health disorder...</td>\n",
       "      <td>No</td>\n",
       "      <td>Would you feel comfortable discussing a mental...</td>\n",
       "      <td>Yes</td>\n",
       "    </tr>\n",
       "  </tbody>\n",
       "</table>\n",
       "<p>10 rows × 27 columns</p>\n",
       "</div>"
      ],
      "text/plain": [
       "  ResponseID  Are you selfemployed  \\\n",
       "0     r00000                 False   \n",
       "1     r00000                 False   \n",
       "2     r00000                 False   \n",
       "3     r00000                 False   \n",
       "4     r00000                 False   \n",
       "5     r00000                 False   \n",
       "6     r00000                 False   \n",
       "7     r00000                 False   \n",
       "8     r00000                 False   \n",
       "9     r00000                 False   \n",
       "\n",
       "  How many employees does your company or organization have  \\\n",
       "0                                             26-100          \n",
       "1                                             26-100          \n",
       "2                                             26-100          \n",
       "3                                             26-100          \n",
       "4                                             26-100          \n",
       "5                                             26-100          \n",
       "6                                             26-100          \n",
       "7                                             26-100          \n",
       "8                                             26-100          \n",
       "9                                             26-100          \n",
       "\n",
       "  Is your employer primarily a tech companyorganization  \\\n",
       "0                                               True      \n",
       "1                                               True      \n",
       "2                                               True      \n",
       "3                                               True      \n",
       "4                                               True      \n",
       "5                                               True      \n",
       "6                                               True      \n",
       "7                                               True      \n",
       "8                                               True      \n",
       "9                                               True      \n",
       "\n",
       "  Is your primary role within your company related to techIT  \\\n",
       "0                                                NaN           \n",
       "1                                                NaN           \n",
       "2                                                NaN           \n",
       "3                                                NaN           \n",
       "4                                                NaN           \n",
       "5                                                NaN           \n",
       "6                                                NaN           \n",
       "7                                                NaN           \n",
       "8                                                NaN           \n",
       "9                                                NaN           \n",
       "\n",
       "   Do you have previous employers  \\\n",
       "0                            True   \n",
       "1                            True   \n",
       "2                            True   \n",
       "3                            True   \n",
       "4                            True   \n",
       "5                            True   \n",
       "6                            True   \n",
       "7                            True   \n",
       "8                            True   \n",
       "9                            True   \n",
       "\n",
       "  Do you have a family history of mental illness  \\\n",
       "0                                             No   \n",
       "1                                             No   \n",
       "2                                             No   \n",
       "3                                             No   \n",
       "4                                             No   \n",
       "5                                             No   \n",
       "6                                             No   \n",
       "7                                             No   \n",
       "8                                             No   \n",
       "9                                             No   \n",
       "\n",
       "  Have you had a mental health disorder in the past  \\\n",
       "0                                               Yes   \n",
       "1                                               Yes   \n",
       "2                                               Yes   \n",
       "3                                               Yes   \n",
       "4                                               Yes   \n",
       "5                                               Yes   \n",
       "6                                               Yes   \n",
       "7                                               Yes   \n",
       "8                                               Yes   \n",
       "9                                               Yes   \n",
       "\n",
       "  Do you currently have a mental health disorder  \\\n",
       "0                                             No   \n",
       "1                                             No   \n",
       "2                                             No   \n",
       "3                                             No   \n",
       "4                                             No   \n",
       "5                                             No   \n",
       "6                                             No   \n",
       "7                                             No   \n",
       "8                                             No   \n",
       "9                                             No   \n",
       "\n",
       "  If yes, what conditions have you been diagnosed with  ...  \\\n",
       "0                                                NaN    ...   \n",
       "1                                                NaN    ...   \n",
       "2                                                NaN    ...   \n",
       "3                                                NaN    ...   \n",
       "4                                                NaN    ...   \n",
       "5                                                NaN    ...   \n",
       "6                                                NaN    ...   \n",
       "7                                                NaN    ...   \n",
       "8                                                NaN    ...   \n",
       "9                                                NaN    ...   \n",
       "\n",
       "  What country do you live in  What US state or territory do you live in  \\\n",
       "0              United Kingdom                                        NaN   \n",
       "1              United Kingdom                                        NaN   \n",
       "2              United Kingdom                                        NaN   \n",
       "3              United Kingdom                                        NaN   \n",
       "4              United Kingdom                                        NaN   \n",
       "5              United Kingdom                                        NaN   \n",
       "6              United Kingdom                                        NaN   \n",
       "7              United Kingdom                                        NaN   \n",
       "8              United Kingdom                                        NaN   \n",
       "9              United Kingdom                                        NaN   \n",
       "\n",
       "  What country do you work in  What US state or territory do you work in  \\\n",
       "0              United Kingdom                                        NaN   \n",
       "1              United Kingdom                                        NaN   \n",
       "2              United Kingdom                                        NaN   \n",
       "3              United Kingdom                                        NaN   \n",
       "4              United Kingdom                                        NaN   \n",
       "5              United Kingdom                                        NaN   \n",
       "6              United Kingdom                                        NaN   \n",
       "7              United Kingdom                                        NaN   \n",
       "8              United Kingdom                                        NaN   \n",
       "9              United Kingdom                                        NaN   \n",
       "\n",
       "   Which of the following best describes your work position  \\\n",
       "0                                 Back-end Developer          \n",
       "1                                 Back-end Developer          \n",
       "2                                 Back-end Developer          \n",
       "3                                 Back-end Developer          \n",
       "4                                 Back-end Developer          \n",
       "5                                 Back-end Developer          \n",
       "6                                 Back-end Developer          \n",
       "7                                 Back-end Developer          \n",
       "8                                 Back-end Developer          \n",
       "9                                 Back-end Developer          \n",
       "\n",
       "  Do you work remotely                                     Question Group  \\\n",
       "0            Sometimes  Resources for employees with mental health dis...   \n",
       "1            Sometimes  Resources for employees with mental health dis...   \n",
       "2            Sometimes  Safe and supportive workplce for those with me...   \n",
       "3            Sometimes  Resources for employees with mental health dis...   \n",
       "4            Sometimes  Resources for employees with mental health dis...   \n",
       "5            Sometimes  Impact of mental disorders on worker productivity   \n",
       "6            Sometimes  Speaking openly about a mental health disorder...   \n",
       "7            Sometimes                                                NaN   \n",
       "8            Sometimes     Speaking openly about a mental health disorder   \n",
       "9            Sometimes  Speaking openly about a mental health disorder...   \n",
       "\n",
       "  Question about speaking openly about mental health vs physical health  \\\n",
       "0                                                 No                      \n",
       "1                                                 No                      \n",
       "2                                                 No                      \n",
       "3                                                 No                      \n",
       "4                                                 No                      \n",
       "5                                                 No                      \n",
       "6                                                Yes                      \n",
       "7                                                Yes                      \n",
       "8                                                 No                      \n",
       "9                                                 No                      \n",
       "\n",
       "                                            Question  \\\n",
       "0  Does your employer provide mental health benef...   \n",
       "1  Do you know the options for mental health care...   \n",
       "2  Has your employer ever formally discussed ment...   \n",
       "3  Does your employer offer resources to learn mo...   \n",
       "4  Is your anonymity protected if you choose to t...   \n",
       "5  If a mental health issue prompted you to reque...   \n",
       "6  Do you think that discussing a mental health d...   \n",
       "7  Do you think that discussing a physical health...   \n",
       "8  Would you feel comfortable discussing a mental...   \n",
       "9  Would you feel comfortable discussing a mental...   \n",
       "\n",
       "                          Response  \n",
       "0  Not eligible for coverage / N/A  \n",
       "1                              NaN  \n",
       "2                               No  \n",
       "3                               No  \n",
       "4                     I don't know  \n",
       "5                        Very easy  \n",
       "6                               No  \n",
       "7                               No  \n",
       "8                            Maybe  \n",
       "9                              Yes  \n",
       "\n",
       "[10 rows x 27 columns]"
      ]
     },
     "execution_count": 3,
     "metadata": {},
     "output_type": "execute_result"
    }
   ],
   "source": [
    "#importing our public data\n",
    "#viewing the first ten rows of our public data.\n",
    "p_data = pd.read_csv(\"health data.csv\")\n",
    "p_data.head(10)"
   ]
  },
  {
   "cell_type": "code",
   "execution_count": 4,
   "id": "8297bf49",
   "metadata": {},
   "outputs": [
    {
     "data": {
      "text/plain": [
       "Index(['Age_bracket', 'Gender', 'Kenyan_citizen', 'County', 'Town',\n",
       "       'Level_of_education', 'Occupation', 'Income_level', 'Social_life',\n",
       "       'Responsibilities', 'Hospital', 'Mental_issues_know',\n",
       "       'Access_Facilities', 'Mental_Facilities_Km', 'Reason'],\n",
       "      dtype='object')"
      ]
     },
     "execution_count": 4,
     "metadata": {},
     "output_type": "execute_result"
    }
   ],
   "source": [
    "s_data.columns"
   ]
  },
  {
   "cell_type": "markdown",
   "id": "529667d3",
   "metadata": {},
   "source": [
    "Age - What age bracket do you fall into?\n",
    "    •\t18-25\n",
    "    •\t26-30\n",
    "    •\t35-40\n",
    "    •\t41-45\n",
    "    •\t46-50\n",
    "    •\t50+\n",
    "\n",
    "Gender - What is your gender?\n",
    "       •\tFemale\n",
    "       •\tMale\n",
    "\n",
    "Kenyan_citizen - Are you a Kenyan citizen?\n",
    "    •\tYes\n",
    "    •\tNo\n",
    "County - Which county do you live in?\n",
    "    (Open Text box provided)\n",
    "\n",
    "Town - Do you live within a town area or outcasts?\n",
    "    •\tTown area\n",
    "    •\tOutcasts (5km+ from main town)\n",
    "\n",
    "Level_of_education - What is the highest level of education you have completed?\n",
    "    •\tPrimary school\n",
    "    •\tSecondary school (e.g., KCSE, GCSE or level 2 qualifications)\n",
    "    •\tSecondary school or college (e.g., IB, A-Levels, advanced apprenticeship, NVQ, BTEC)\n",
    "    •\tUniversity Certificate\n",
    "    •\tUniversity Diploma\n",
    "    •\tBachelor’s Degree\n",
    "    •\tMaster’s Degree\n",
    "    •\tDoctoral degree\n",
    "\n",
    "Occupation -  What would describe your occupation?\n",
    "    •\tSelf-employed\n",
    "    •\tSmall Medium Enterprise\n",
    "    •\tStart-up\n",
    "        •\tStudent\n",
    " •\tInternship\n",
    "•\tEmployed in an organization\n",
    "•\tRetired\n",
    "\n",
    "Level_of_education - How would you describe your income level?\n",
    "•\tFor my age group, would consider below average \n",
    "•\tFor my age group, would consider average \n",
    "•\tFor my age group, above average\n",
    "\n",
    "Social_life - How would you describe your social life?\n",
    "•\tHighly social\n",
    "•\tPartly social\n",
    "•\tI prefer my own company\n",
    "\n",
    "Responsibilities - Do you have any caring responsibilities?\n",
    "•\tNone\n",
    "•\tPrimary carer of a child or children (under 18 years)\n",
    "•\tPrimary carer of a disabled child or children (under 18 years)\n",
    "•\tPrimary carer or assistant for a disabled adult (18 years and over)\n",
    "•\tPrimary carer or assistant for an older person or people (65 years and over)\n",
    "•\tSecondary carer (another person carries out the main caring role)\n",
    "•\tPrefer not to disclose\n",
    "\n",
    "Hospital - How far is the nearest hospital facility from where you live?\n",
    "•\t0-5km\n",
    "•\t6-10km\n",
    "•\t11km+\n",
    "\n",
    "Mental_issues_know - How well are you vast with mental health issues?\n",
    "•\tWell knowledgeable \n",
    "•\tHave an idea\n",
    "•\tHave not had a chance to check on mental health issues\n",
    "\n",
    "Access_facilities - Have you ever accessed any mental health services?\n",
    "•\tYes\n",
    "•\tNo\n",
    "\n",
    "Mental_Facilities_Km - Are you aware of any mental health facility within a radius of 10km from your place of living?\n",
    "•\tYes \n",
    "•\tNo\n",
    "\n",
    "Reason - If you are to access a mental health service / facility, what would be the main reason?\n",
    "•\tLearn my mental health status\n",
    "•\tSeek help\n",
    "•\tKnow more about the field\n",
    "•\tRecommend someone close to me to the service / facility\n",
    "•\tNot interested\n"
   ]
  },
  {
   "cell_type": "markdown",
   "id": "e83db790",
   "metadata": {},
   "source": [
    "For the public data."
   ]
  },
  {
   "cell_type": "code",
   "execution_count": 5,
   "id": "5ead2d39",
   "metadata": {},
   "outputs": [
    {
     "data": {
      "text/plain": [
       "Index(['ResponseID', 'Are you selfemployed',\n",
       "       'How many employees does your company or organization have',\n",
       "       'Is your employer primarily a tech companyorganization',\n",
       "       'Is your primary role within your company related to techIT',\n",
       "       'Do you have previous employers',\n",
       "       'Do you have a family history of mental illness',\n",
       "       'Have you had a mental health disorder in the past',\n",
       "       'Do you currently have a mental health disorder',\n",
       "       'If yes, what conditions have you been diagnosed with',\n",
       "       'If maybe, what conditions do you believe you have',\n",
       "       'Have you been diagnosed with a mental health condition by a medical professional',\n",
       "       'If so, what conditions were you diagnosed with',\n",
       "       'Have you ever sought treatment for a mental health issue from a mental health professional',\n",
       "       'What is your age', 'What is your gender ', 'Age Group',\n",
       "       'What country do you live in',\n",
       "       'What US state or territory do you live in',\n",
       "       'What country do you work in',\n",
       "       'What US state or territory do you work in',\n",
       "       'Which of the following best describes your work position',\n",
       "       'Do you work remotely', 'Question Group',\n",
       "       'Question about speaking openly about mental health vs physical health',\n",
       "       'Question', 'Response'],\n",
       "      dtype='object')"
      ]
     },
     "execution_count": 5,
     "metadata": {},
     "output_type": "execute_result"
    }
   ],
   "source": [
    "p_data.columns"
   ]
  },
  {
   "cell_type": "markdown",
   "id": "682e02b7",
   "metadata": {},
   "source": [
    "- ResponseID\n",
    "- Are you selfemployed?\n",
    "- How many employees does your company or organization have?\n",
    "- Is your employer primarily a tech companyorganization?\n",
    "- Is your primary role within your company related to techIT?\n",
    "- Is your primary role within your company related to techIT?\n",
    "- Do you have previous employers?\n",
    "- Do you have a family history of mental illness?\n",
    "- Have you had a mental health disorder in the past?\n",
    "- Do you currently have a mental health disorder?\n",
    "- If yes, what conditions have you been diagnosed with?\n",
    "- If maybe, what conditions do you believe you have?\n",
    "- Have you been diagnosed with a mental health condition by a medical professional?\n",
    "- If so, what conditions were you diagnosed with?\n",
    "- Have you ever sought treatment for a mental health issue from a mental health professional?\n",
    "- What is your age', 'What is your gender ?\n",
    "- Age Group?\n",
    "- What country do you live in?\n",
    "- What US state or territory do you live in?\n",
    "- What country do you work in?\n",
    "- What US state or territory do you work in?\n",
    "-  of the following best describes your work position?\n",
    "- Do you work remotely', 'Question Group?\n",
    "- Question about speaking openly about mental health vs physical health?\n",
    "- Question ?\n",
    "Response"
   ]
  },
  {
   "cell_type": "markdown",
   "id": "3feca9f2",
   "metadata": {},
   "source": [
    "###  Data types."
   ]
  },
  {
   "cell_type": "code",
   "execution_count": 6,
   "id": "a23ee2e0",
   "metadata": {},
   "outputs": [
    {
     "name": "stdout",
     "output_type": "stream",
     "text": [
      "The shape of the survey data is :(38, 15)\n",
      "The shape of the public data is:(60186, 27)\n"
     ]
    }
   ],
   "source": [
    "#checking the shape of both datasets\n",
    "x = s_data.shape\n",
    "print ('The shape of the survey data is :' + str(x))\n",
    "y = p_data.shape\n",
    "print ('The shape of the public data is:' + str(y))"
   ]
  },
  {
   "cell_type": "code",
   "execution_count": 7,
   "id": "daa721e5",
   "metadata": {},
   "outputs": [
    {
     "name": "stdout",
     "output_type": "stream",
     "text": [
      "<class 'pandas.core.frame.DataFrame'>\n",
      "RangeIndex: 60186 entries, 0 to 60185\n",
      "Data columns (total 27 columns):\n",
      " #   Column                                                                                      Non-Null Count  Dtype  \n",
      "---  ------                                                                                      --------------  -----  \n",
      " 0   ResponseID                                                                                  60186 non-null  object \n",
      " 1   Are you selfemployed                                                                        60186 non-null  bool   \n",
      " 2   How many employees does your company or organization have                                   48132 non-null  object \n",
      " 3   Is your employer primarily a tech companyorganization                                       48132 non-null  object \n",
      " 4   Is your primary role within your company related to techIT                                  11046 non-null  object \n",
      " 5   Do you have previous employers                                                              60186 non-null  bool   \n",
      " 6   Do you have a family history of mental illness                                              60186 non-null  object \n",
      " 7   Have you had a mental health disorder in the past                                           60186 non-null  object \n",
      " 8   Do you currently have a mental health disorder                                              60186 non-null  object \n",
      " 9   If yes, what conditions have you been diagnosed with                                        23856 non-null  object \n",
      " 10  If maybe, what conditions do you believe you have                                           13524 non-null  object \n",
      " 11  Have you been diagnosed with a mental health condition by a medical professional            60186 non-null  bool   \n",
      " 12  If so, what conditions were you diagnosed with                                              29862 non-null  object \n",
      " 13  Have you ever sought treatment for a mental health issue from a mental health professional  60186 non-null  bool   \n",
      " 14  What is your age                                                                            60102 non-null  float64\n",
      " 15  What is your gender                                                                         60186 non-null  object \n",
      " 16  Age Group                                                                                   60186 non-null  object \n",
      " 17  What country do you live in                                                                 60186 non-null  object \n",
      " 18  What US state or territory do you live in                                                   35280 non-null  object \n",
      " 19  What country do you work in                                                                 60186 non-null  object \n",
      " 20  What US state or territory do you work in                                                   35742 non-null  object \n",
      " 21  Which of the following best describes your work position                                    60186 non-null  object \n",
      " 22  Do you work remotely                                                                        60186 non-null  object \n",
      " 23  Question Group                                                                              51588 non-null  object \n",
      " 24  Question about speaking openly about mental health vs physical health                       60186 non-null  object \n",
      " 25  Question                                                                                    60186 non-null  object \n",
      " 26  Response                                                                                    43846 non-null  object \n",
      "dtypes: bool(4), float64(1), object(22)\n",
      "memory usage: 10.8+ MB\n"
     ]
    }
   ],
   "source": [
    "# Getting the general information and the datatypes of the survey data.\n",
    "p_data.info()"
   ]
  },
  {
   "cell_type": "code",
   "execution_count": 8,
   "id": "01685e5e",
   "metadata": {},
   "outputs": [
    {
     "name": "stdout",
     "output_type": "stream",
     "text": [
      "<class 'pandas.core.frame.DataFrame'>\n",
      "RangeIndex: 38 entries, 0 to 37\n",
      "Data columns (total 15 columns):\n",
      " #   Column                Non-Null Count  Dtype \n",
      "---  ------                --------------  ----- \n",
      " 0   Age_bracket           38 non-null     object\n",
      " 1   Gender                38 non-null     object\n",
      " 2   Kenyan_citizen        38 non-null     object\n",
      " 3   County                38 non-null     object\n",
      " 4   Town                  38 non-null     object\n",
      " 5   Level_of_education    38 non-null     object\n",
      " 6   Occupation            38 non-null     object\n",
      " 7   Income_level          38 non-null     object\n",
      " 8   Social_life           38 non-null     object\n",
      " 9   Responsibilities      38 non-null     object\n",
      " 10  Hospital              38 non-null     object\n",
      " 11  Mental_issues_know    38 non-null     object\n",
      " 12  Access_Facilities     38 non-null     object\n",
      " 13  Mental_Facilities_Km  38 non-null     object\n",
      " 14  Reason                38 non-null     object\n",
      "dtypes: object(15)\n",
      "memory usage: 4.6+ KB\n"
     ]
    }
   ],
   "source": [
    "#Gettting the general information and data types of survey data.\n",
    "s_data.info()"
   ]
  },
  {
   "cell_type": "markdown",
   "id": "ed0e2850",
   "metadata": {},
   "source": [
    "### Data cleaning and pre-processing."
   ]
  },
  {
   "cell_type": "markdown",
   "id": "cc422251",
   "metadata": {},
   "source": [
    "For the survey data, since the column of ResponseId contains unique elements that identify each respondent differently from each other we will drop it."
   ]
  },
  {
   "cell_type": "code",
   "execution_count": 9,
   "id": "96978212",
   "metadata": {},
   "outputs": [
    {
     "data": {
      "text/html": [
       "<div>\n",
       "<style scoped>\n",
       "    .dataframe tbody tr th:only-of-type {\n",
       "        vertical-align: middle;\n",
       "    }\n",
       "\n",
       "    .dataframe tbody tr th {\n",
       "        vertical-align: top;\n",
       "    }\n",
       "\n",
       "    .dataframe thead th {\n",
       "        text-align: right;\n",
       "    }\n",
       "</style>\n",
       "<table border=\"1\" class=\"dataframe\">\n",
       "  <thead>\n",
       "    <tr style=\"text-align: right;\">\n",
       "      <th></th>\n",
       "      <th>Are you selfemployed</th>\n",
       "      <th>How many employees does your company or organization have</th>\n",
       "      <th>Is your employer primarily a tech companyorganization</th>\n",
       "      <th>Is your primary role within your company related to techIT</th>\n",
       "      <th>Do you have previous employers</th>\n",
       "      <th>Do you have a family history of mental illness</th>\n",
       "      <th>Have you had a mental health disorder in the past</th>\n",
       "      <th>Do you currently have a mental health disorder</th>\n",
       "      <th>If yes, what conditions have you been diagnosed with</th>\n",
       "      <th>If maybe, what conditions do you believe you have</th>\n",
       "      <th>...</th>\n",
       "      <th>What country do you live in</th>\n",
       "      <th>What US state or territory do you live in</th>\n",
       "      <th>What country do you work in</th>\n",
       "      <th>What US state or territory do you work in</th>\n",
       "      <th>Which of the following best describes your work position</th>\n",
       "      <th>Do you work remotely</th>\n",
       "      <th>Question Group</th>\n",
       "      <th>Question about speaking openly about mental health vs physical health</th>\n",
       "      <th>Question</th>\n",
       "      <th>Response</th>\n",
       "    </tr>\n",
       "  </thead>\n",
       "  <tbody>\n",
       "    <tr>\n",
       "      <th>0</th>\n",
       "      <td>False</td>\n",
       "      <td>26-100</td>\n",
       "      <td>True</td>\n",
       "      <td>NaN</td>\n",
       "      <td>True</td>\n",
       "      <td>No</td>\n",
       "      <td>Yes</td>\n",
       "      <td>No</td>\n",
       "      <td>NaN</td>\n",
       "      <td>NaN</td>\n",
       "      <td>...</td>\n",
       "      <td>United Kingdom</td>\n",
       "      <td>NaN</td>\n",
       "      <td>United Kingdom</td>\n",
       "      <td>NaN</td>\n",
       "      <td>Back-end Developer</td>\n",
       "      <td>Sometimes</td>\n",
       "      <td>Resources for employees with mental health dis...</td>\n",
       "      <td>No</td>\n",
       "      <td>Does your employer provide mental health benef...</td>\n",
       "      <td>Not eligible for coverage / N/A</td>\n",
       "    </tr>\n",
       "    <tr>\n",
       "      <th>1</th>\n",
       "      <td>False</td>\n",
       "      <td>26-100</td>\n",
       "      <td>True</td>\n",
       "      <td>NaN</td>\n",
       "      <td>True</td>\n",
       "      <td>No</td>\n",
       "      <td>Yes</td>\n",
       "      <td>No</td>\n",
       "      <td>NaN</td>\n",
       "      <td>NaN</td>\n",
       "      <td>...</td>\n",
       "      <td>United Kingdom</td>\n",
       "      <td>NaN</td>\n",
       "      <td>United Kingdom</td>\n",
       "      <td>NaN</td>\n",
       "      <td>Back-end Developer</td>\n",
       "      <td>Sometimes</td>\n",
       "      <td>Resources for employees with mental health dis...</td>\n",
       "      <td>No</td>\n",
       "      <td>Do you know the options for mental health care...</td>\n",
       "      <td>NaN</td>\n",
       "    </tr>\n",
       "    <tr>\n",
       "      <th>2</th>\n",
       "      <td>False</td>\n",
       "      <td>26-100</td>\n",
       "      <td>True</td>\n",
       "      <td>NaN</td>\n",
       "      <td>True</td>\n",
       "      <td>No</td>\n",
       "      <td>Yes</td>\n",
       "      <td>No</td>\n",
       "      <td>NaN</td>\n",
       "      <td>NaN</td>\n",
       "      <td>...</td>\n",
       "      <td>United Kingdom</td>\n",
       "      <td>NaN</td>\n",
       "      <td>United Kingdom</td>\n",
       "      <td>NaN</td>\n",
       "      <td>Back-end Developer</td>\n",
       "      <td>Sometimes</td>\n",
       "      <td>Safe and supportive workplce for those with me...</td>\n",
       "      <td>No</td>\n",
       "      <td>Has your employer ever formally discussed ment...</td>\n",
       "      <td>No</td>\n",
       "    </tr>\n",
       "    <tr>\n",
       "      <th>3</th>\n",
       "      <td>False</td>\n",
       "      <td>26-100</td>\n",
       "      <td>True</td>\n",
       "      <td>NaN</td>\n",
       "      <td>True</td>\n",
       "      <td>No</td>\n",
       "      <td>Yes</td>\n",
       "      <td>No</td>\n",
       "      <td>NaN</td>\n",
       "      <td>NaN</td>\n",
       "      <td>...</td>\n",
       "      <td>United Kingdom</td>\n",
       "      <td>NaN</td>\n",
       "      <td>United Kingdom</td>\n",
       "      <td>NaN</td>\n",
       "      <td>Back-end Developer</td>\n",
       "      <td>Sometimes</td>\n",
       "      <td>Resources for employees with mental health dis...</td>\n",
       "      <td>No</td>\n",
       "      <td>Does your employer offer resources to learn mo...</td>\n",
       "      <td>No</td>\n",
       "    </tr>\n",
       "    <tr>\n",
       "      <th>4</th>\n",
       "      <td>False</td>\n",
       "      <td>26-100</td>\n",
       "      <td>True</td>\n",
       "      <td>NaN</td>\n",
       "      <td>True</td>\n",
       "      <td>No</td>\n",
       "      <td>Yes</td>\n",
       "      <td>No</td>\n",
       "      <td>NaN</td>\n",
       "      <td>NaN</td>\n",
       "      <td>...</td>\n",
       "      <td>United Kingdom</td>\n",
       "      <td>NaN</td>\n",
       "      <td>United Kingdom</td>\n",
       "      <td>NaN</td>\n",
       "      <td>Back-end Developer</td>\n",
       "      <td>Sometimes</td>\n",
       "      <td>Resources for employees with mental health dis...</td>\n",
       "      <td>No</td>\n",
       "      <td>Is your anonymity protected if you choose to t...</td>\n",
       "      <td>I don't know</td>\n",
       "    </tr>\n",
       "  </tbody>\n",
       "</table>\n",
       "<p>5 rows × 26 columns</p>\n",
       "</div>"
      ],
      "text/plain": [
       "   Are you selfemployed  \\\n",
       "0                 False   \n",
       "1                 False   \n",
       "2                 False   \n",
       "3                 False   \n",
       "4                 False   \n",
       "\n",
       "  How many employees does your company or organization have  \\\n",
       "0                                             26-100          \n",
       "1                                             26-100          \n",
       "2                                             26-100          \n",
       "3                                             26-100          \n",
       "4                                             26-100          \n",
       "\n",
       "  Is your employer primarily a tech companyorganization  \\\n",
       "0                                               True      \n",
       "1                                               True      \n",
       "2                                               True      \n",
       "3                                               True      \n",
       "4                                               True      \n",
       "\n",
       "  Is your primary role within your company related to techIT  \\\n",
       "0                                                NaN           \n",
       "1                                                NaN           \n",
       "2                                                NaN           \n",
       "3                                                NaN           \n",
       "4                                                NaN           \n",
       "\n",
       "   Do you have previous employers  \\\n",
       "0                            True   \n",
       "1                            True   \n",
       "2                            True   \n",
       "3                            True   \n",
       "4                            True   \n",
       "\n",
       "  Do you have a family history of mental illness  \\\n",
       "0                                             No   \n",
       "1                                             No   \n",
       "2                                             No   \n",
       "3                                             No   \n",
       "4                                             No   \n",
       "\n",
       "  Have you had a mental health disorder in the past  \\\n",
       "0                                               Yes   \n",
       "1                                               Yes   \n",
       "2                                               Yes   \n",
       "3                                               Yes   \n",
       "4                                               Yes   \n",
       "\n",
       "  Do you currently have a mental health disorder  \\\n",
       "0                                             No   \n",
       "1                                             No   \n",
       "2                                             No   \n",
       "3                                             No   \n",
       "4                                             No   \n",
       "\n",
       "  If yes, what conditions have you been diagnosed with  \\\n",
       "0                                                NaN     \n",
       "1                                                NaN     \n",
       "2                                                NaN     \n",
       "3                                                NaN     \n",
       "4                                                NaN     \n",
       "\n",
       "  If maybe, what conditions do you believe you have  ...  \\\n",
       "0                                               NaN  ...   \n",
       "1                                               NaN  ...   \n",
       "2                                               NaN  ...   \n",
       "3                                               NaN  ...   \n",
       "4                                               NaN  ...   \n",
       "\n",
       "   What country do you live in What US state or territory do you live in  \\\n",
       "0               United Kingdom                                       NaN   \n",
       "1               United Kingdom                                       NaN   \n",
       "2               United Kingdom                                       NaN   \n",
       "3               United Kingdom                                       NaN   \n",
       "4               United Kingdom                                       NaN   \n",
       "\n",
       "   What country do you work in  What US state or territory do you work in  \\\n",
       "0               United Kingdom                                        NaN   \n",
       "1               United Kingdom                                        NaN   \n",
       "2               United Kingdom                                        NaN   \n",
       "3               United Kingdom                                        NaN   \n",
       "4               United Kingdom                                        NaN   \n",
       "\n",
       "  Which of the following best describes your work position  \\\n",
       "0                                 Back-end Developer         \n",
       "1                                 Back-end Developer         \n",
       "2                                 Back-end Developer         \n",
       "3                                 Back-end Developer         \n",
       "4                                 Back-end Developer         \n",
       "\n",
       "  Do you work remotely                                     Question Group  \\\n",
       "0            Sometimes  Resources for employees with mental health dis...   \n",
       "1            Sometimes  Resources for employees with mental health dis...   \n",
       "2            Sometimes  Safe and supportive workplce for those with me...   \n",
       "3            Sometimes  Resources for employees with mental health dis...   \n",
       "4            Sometimes  Resources for employees with mental health dis...   \n",
       "\n",
       "  Question about speaking openly about mental health vs physical health  \\\n",
       "0                                                 No                      \n",
       "1                                                 No                      \n",
       "2                                                 No                      \n",
       "3                                                 No                      \n",
       "4                                                 No                      \n",
       "\n",
       "                                            Question  \\\n",
       "0  Does your employer provide mental health benef...   \n",
       "1  Do you know the options for mental health care...   \n",
       "2  Has your employer ever formally discussed ment...   \n",
       "3  Does your employer offer resources to learn mo...   \n",
       "4  Is your anonymity protected if you choose to t...   \n",
       "\n",
       "                          Response  \n",
       "0  Not eligible for coverage / N/A  \n",
       "1                              NaN  \n",
       "2                               No  \n",
       "3                               No  \n",
       "4                     I don't know  \n",
       "\n",
       "[5 rows x 26 columns]"
      ]
     },
     "execution_count": 9,
     "metadata": {},
     "output_type": "execute_result"
    }
   ],
   "source": [
    "#dropping the column of response id.\n",
    "p_data1 = p_data.drop(['ResponseID'], axis = 1)\n",
    "p_data1.head()"
   ]
  },
  {
   "cell_type": "code",
   "execution_count": 10,
   "id": "c41ca494",
   "metadata": {},
   "outputs": [
    {
     "data": {
      "text/plain": [
       "Index(['employment', 'no_employees', 'type_employer', 'role',\n",
       "       'previous_employer', 'family_history', 'history_mhd', 'current_mhd',\n",
       "       'mhd_condition', 'mhd_condition2', 'prof_diagnosis', 'mhd_condition3',\n",
       "       'treatment', 'age', 'gender', 'age_group', 'country', 'us_state',\n",
       "       'work_country', 'work_state', 'work_position', 'work_remotely',\n",
       "       'question_group', 'mental_pysical', 'question', 'response'],\n",
       "      dtype='object')"
      ]
     },
     "execution_count": 10,
     "metadata": {},
     "output_type": "execute_result"
    }
   ],
   "source": [
    "#renaming the survey columns to shorter names that we can work with easily.\n",
    "p_data1.columns = ['employment','no_employees',\"type_employer\",'role','previous_employer','family_history','history_mhd','current_mhd','mhd_condition','mhd_condition2','prof_diagnosis','mhd_condition3',\"treatment\",'age','gender','age_group','country','us_state','work_country','work_state',\"work_position\",'work_remotely','question_group','mental_pysical','question','response']\n",
    "p_data1.columns"
   ]
  },
  {
   "cell_type": "markdown",
   "id": "7ac56217",
   "metadata": {},
   "source": [
    "Checking the sum of missing vcalues for the survey and public data."
   ]
  },
  {
   "cell_type": "code",
   "execution_count": 11,
   "id": "07365ce2",
   "metadata": {},
   "outputs": [
    {
     "data": {
      "text/plain": [
       "role                 49140\n",
       "mhd_condition2       46662\n",
       "mhd_condition        36330\n",
       "mhd_condition3       30324\n",
       "us_state             24906\n",
       "work_state           24444\n",
       "response             16340\n",
       "type_employer        12054\n",
       "no_employees         12054\n",
       "question_group        8598\n",
       "age                     84\n",
       "prof_diagnosis           0\n",
       "treatment                0\n",
       "current_mhd              0\n",
       "gender                   0\n",
       "age_group                0\n",
       "country                  0\n",
       "history_mhd              0\n",
       "work_country             0\n",
       "family_history           0\n",
       "work_position            0\n",
       "work_remotely            0\n",
       "previous_employer        0\n",
       "mental_pysical           0\n",
       "question                 0\n",
       "employment               0\n",
       "dtype: int64"
      ]
     },
     "execution_count": 11,
     "metadata": {},
     "output_type": "execute_result"
    }
   ],
   "source": [
    "#public data\n",
    "p_data1.isnull().sum().sort_values(ascending = False)"
   ]
  },
  {
   "cell_type": "code",
   "execution_count": 12,
   "id": "7a338968",
   "metadata": {},
   "outputs": [
    {
     "data": {
      "text/plain": [
       "Age_bracket             0\n",
       "Gender                  0\n",
       "Kenyan_citizen          0\n",
       "County                  0\n",
       "Town                    0\n",
       "Level_of_education      0\n",
       "Occupation              0\n",
       "Income_level            0\n",
       "Social_life             0\n",
       "Responsibilities        0\n",
       "Hospital                0\n",
       "Mental_issues_know      0\n",
       "Access_Facilities       0\n",
       "Mental_Facilities_Km    0\n",
       "Reason                  0\n",
       "dtype: int64"
      ]
     },
     "execution_count": 12,
     "metadata": {},
     "output_type": "execute_result"
    }
   ],
   "source": [
    "#survey data\n",
    "s_data.isnull().sum().sort_values(ascending = False) "
   ]
  },
  {
   "cell_type": "markdown",
   "id": "6670db87",
   "metadata": {},
   "source": [
    "### Missing values."
   ]
  },
  {
   "cell_type": "markdown",
   "id": "18716047",
   "metadata": {},
   "source": [
    "Since we only have missing values in the publicy obtained data we will be evaluating this dataset only."
   ]
  },
  {
   "cell_type": "code",
   "execution_count": 13,
   "id": "1c46212e",
   "metadata": {},
   "outputs": [],
   "source": [
    "#importing the missingno module to visualize and interpret relationships between missing values.\n",
    "import missingno as msno"
   ]
  },
  {
   "cell_type": "code",
   "execution_count": 14,
   "id": "01ac7a2c",
   "metadata": {},
   "outputs": [
    {
     "data": {
      "text/plain": [
       "<AxesSubplot:>"
      ]
     },
     "execution_count": 14,
     "metadata": {},
     "output_type": "execute_result"
    },
    {
     "data": {
      "image/png": "[encoded data removed]",
      "text/plain": [
       "<Figure size 1800x720 with 3 Axes>"
      ]
     },
     "metadata": {
      "needs_background": "light"
     },
     "output_type": "display_data"
    }
   ],
   "source": [
    "#Checking the missing values in the publicly obtained data\n",
    "msno.bar(p_data1)"
   ]
  },
  {
   "cell_type": "markdown",
   "id": "13a73a53",
   "metadata": {},
   "source": [
    "The bar plot above visualizes the amount of missing values in the publicly obtained data, missing values vary from one column to the other as seen above the column of Role has the most missing values with only less than 12000 non-null values."
   ]
  },
  {
   "cell_type": "code",
   "execution_count": 15,
   "id": "ada2001c",
   "metadata": {},
   "outputs": [
    {
     "data": {
      "text/plain": [
       "<AxesSubplot:>"
      ]
     },
     "execution_count": 15,
     "metadata": {},
     "output_type": "execute_result"
    },
    {
     "data": {
      "image/png": "[encoded data removed]",
      "text/plain": [
       "<Figure size 1440x864 with 2 Axes>"
      ]
     },
     "metadata": {
      "needs_background": "light"
     },
     "output_type": "display_data"
    }
   ],
   "source": [
    "#checking the relationship between missing values\n",
    "msno.heatmap(p_data1)"
   ]
  },
  {
   "cell_type": "markdown",
   "id": "b580fa91",
   "metadata": {},
   "source": [
    "The heatmap above plots how missing values in a column above affects the occurence of missing values in other columns, this in turn gives us correlations between the value of -1 and 1 this corelation can be interpreted as follows:\n",
    "-   A value near 1 means that when one column has missing values then the other column is likely to have missing values.\n",
    "-   A value of 0 means that the columns are independet of one another regarding the occurrence of missing values.\n",
    "-   A value near -1 means that when one column has missing values then the other column has non null values \n",
    "The conditions above can be used to interpret our the relationship between our columns to decide what will will do with columns with missing values.\n",
    "\n",
    "Since we will be checking mental disorders in countries only, it will be wise to drop the column of states in the US. The question and response columns are also to be dropped since they contain feedback that is unique from one respondent to another."
   ]
  },
  {
   "cell_type": "code",
   "execution_count": 16,
   "id": "de90e977",
   "metadata": {},
   "outputs": [
    {
     "data": {
      "text/plain": [
       "Index(['employment', 'no_employees', 'type_employer', 'role',\n",
       "       'previous_employer', 'family_history', 'history_mhd', 'current_mhd',\n",
       "       'mhd_condition', 'mhd_condition2', 'prof_diagnosis', 'mhd_condition3',\n",
       "       'treatment', 'age', 'gender', 'age_group', 'country', 'work_country',\n",
       "       'work_position', 'work_remotely', 'question_group', 'mental_pysical'],\n",
       "      dtype='object')"
      ]
     },
     "execution_count": 16,
     "metadata": {},
     "output_type": "execute_result"
    }
   ],
   "source": [
    "#dropping unnecessary columns.\n",
    "p_data2 = p_data1.drop(columns = ['response', 'question', 'us_state', 'work_state'])\n",
    "p_data2.columns"
   ]
  },
  {
   "cell_type": "code",
   "execution_count": 17,
   "id": "fac33228",
   "metadata": {},
   "outputs": [
    {
     "data": {
      "text/plain": [
       "role                 49140\n",
       "mhd_condition2       46662\n",
       "mhd_condition        36330\n",
       "mhd_condition3       30324\n",
       "type_employer        12054\n",
       "no_employees         12054\n",
       "question_group        8598\n",
       "age                     84\n",
       "gender                   0\n",
       "work_remotely            0\n",
       "work_position            0\n",
       "work_country             0\n",
       "country                  0\n",
       "age_group                0\n",
       "employment               0\n",
       "treatment                0\n",
       "prof_diagnosis           0\n",
       "current_mhd              0\n",
       "history_mhd              0\n",
       "family_history           0\n",
       "previous_employer        0\n",
       "mental_pysical           0\n",
       "dtype: int64"
      ]
     },
     "execution_count": 17,
     "metadata": {},
     "output_type": "execute_result"
    }
   ],
   "source": [
    "#dealing with missing values column by column that have missing values.\n",
    "p_data2.isnull().sum().sort_values(ascending = False)"
   ]
  },
  {
   "cell_type": "markdown",
   "id": "375ec1f9",
   "metadata": {},
   "source": [
    "Since the column of role has over 80% missing values we will drop it and its relationship with other columns is less either 0 or 0.1 or 0.2 we will drop it."
   ]
  },
  {
   "cell_type": "code",
   "execution_count": 18,
   "id": "4ab8cb59",
   "metadata": {},
   "outputs": [
    {
     "data": {
      "text/html": [
       "<div>\n",
       "<style scoped>\n",
       "    .dataframe tbody tr th:only-of-type {\n",
       "        vertical-align: middle;\n",
       "    }\n",
       "\n",
       "    .dataframe tbody tr th {\n",
       "        vertical-align: top;\n",
       "    }\n",
       "\n",
       "    .dataframe thead th {\n",
       "        text-align: right;\n",
       "    }\n",
       "</style>\n",
       "<table border=\"1\" class=\"dataframe\">\n",
       "  <thead>\n",
       "    <tr style=\"text-align: right;\">\n",
       "      <th></th>\n",
       "      <th>employment</th>\n",
       "      <th>no_employees</th>\n",
       "      <th>type_employer</th>\n",
       "      <th>previous_employer</th>\n",
       "      <th>family_history</th>\n",
       "      <th>history_mhd</th>\n",
       "      <th>current_mhd</th>\n",
       "      <th>mhd_condition</th>\n",
       "      <th>mhd_condition2</th>\n",
       "      <th>prof_diagnosis</th>\n",
       "      <th>...</th>\n",
       "      <th>treatment</th>\n",
       "      <th>age</th>\n",
       "      <th>gender</th>\n",
       "      <th>age_group</th>\n",
       "      <th>country</th>\n",
       "      <th>work_country</th>\n",
       "      <th>work_position</th>\n",
       "      <th>work_remotely</th>\n",
       "      <th>question_group</th>\n",
       "      <th>mental_pysical</th>\n",
       "    </tr>\n",
       "  </thead>\n",
       "  <tbody>\n",
       "    <tr>\n",
       "      <th>0</th>\n",
       "      <td>False</td>\n",
       "      <td>26-100</td>\n",
       "      <td>True</td>\n",
       "      <td>True</td>\n",
       "      <td>No</td>\n",
       "      <td>Yes</td>\n",
       "      <td>No</td>\n",
       "      <td>NaN</td>\n",
       "      <td>NaN</td>\n",
       "      <td>True</td>\n",
       "      <td>...</td>\n",
       "      <td>False</td>\n",
       "      <td>39.0</td>\n",
       "      <td>Male</td>\n",
       "      <td>36-40</td>\n",
       "      <td>United Kingdom</td>\n",
       "      <td>United Kingdom</td>\n",
       "      <td>Back-end Developer</td>\n",
       "      <td>Sometimes</td>\n",
       "      <td>Resources for employees with mental health dis...</td>\n",
       "      <td>No</td>\n",
       "    </tr>\n",
       "    <tr>\n",
       "      <th>1</th>\n",
       "      <td>False</td>\n",
       "      <td>26-100</td>\n",
       "      <td>True</td>\n",
       "      <td>True</td>\n",
       "      <td>No</td>\n",
       "      <td>Yes</td>\n",
       "      <td>No</td>\n",
       "      <td>NaN</td>\n",
       "      <td>NaN</td>\n",
       "      <td>True</td>\n",
       "      <td>...</td>\n",
       "      <td>False</td>\n",
       "      <td>39.0</td>\n",
       "      <td>Male</td>\n",
       "      <td>36-40</td>\n",
       "      <td>United Kingdom</td>\n",
       "      <td>United Kingdom</td>\n",
       "      <td>Back-end Developer</td>\n",
       "      <td>Sometimes</td>\n",
       "      <td>Resources for employees with mental health dis...</td>\n",
       "      <td>No</td>\n",
       "    </tr>\n",
       "    <tr>\n",
       "      <th>2</th>\n",
       "      <td>False</td>\n",
       "      <td>26-100</td>\n",
       "      <td>True</td>\n",
       "      <td>True</td>\n",
       "      <td>No</td>\n",
       "      <td>Yes</td>\n",
       "      <td>No</td>\n",
       "      <td>NaN</td>\n",
       "      <td>NaN</td>\n",
       "      <td>True</td>\n",
       "      <td>...</td>\n",
       "      <td>False</td>\n",
       "      <td>39.0</td>\n",
       "      <td>Male</td>\n",
       "      <td>36-40</td>\n",
       "      <td>United Kingdom</td>\n",
       "      <td>United Kingdom</td>\n",
       "      <td>Back-end Developer</td>\n",
       "      <td>Sometimes</td>\n",
       "      <td>Safe and supportive workplce for those with me...</td>\n",
       "      <td>No</td>\n",
       "    </tr>\n",
       "    <tr>\n",
       "      <th>3</th>\n",
       "      <td>False</td>\n",
       "      <td>26-100</td>\n",
       "      <td>True</td>\n",
       "      <td>True</td>\n",
       "      <td>No</td>\n",
       "      <td>Yes</td>\n",
       "      <td>No</td>\n",
       "      <td>NaN</td>\n",
       "      <td>NaN</td>\n",
       "      <td>True</td>\n",
       "      <td>...</td>\n",
       "      <td>False</td>\n",
       "      <td>39.0</td>\n",
       "      <td>Male</td>\n",
       "      <td>36-40</td>\n",
       "      <td>United Kingdom</td>\n",
       "      <td>United Kingdom</td>\n",
       "      <td>Back-end Developer</td>\n",
       "      <td>Sometimes</td>\n",
       "      <td>Resources for employees with mental health dis...</td>\n",
       "      <td>No</td>\n",
       "    </tr>\n",
       "    <tr>\n",
       "      <th>4</th>\n",
       "      <td>False</td>\n",
       "      <td>26-100</td>\n",
       "      <td>True</td>\n",
       "      <td>True</td>\n",
       "      <td>No</td>\n",
       "      <td>Yes</td>\n",
       "      <td>No</td>\n",
       "      <td>NaN</td>\n",
       "      <td>NaN</td>\n",
       "      <td>True</td>\n",
       "      <td>...</td>\n",
       "      <td>False</td>\n",
       "      <td>39.0</td>\n",
       "      <td>Male</td>\n",
       "      <td>36-40</td>\n",
       "      <td>United Kingdom</td>\n",
       "      <td>United Kingdom</td>\n",
       "      <td>Back-end Developer</td>\n",
       "      <td>Sometimes</td>\n",
       "      <td>Resources for employees with mental health dis...</td>\n",
       "      <td>No</td>\n",
       "    </tr>\n",
       "  </tbody>\n",
       "</table>\n",
       "<p>5 rows × 21 columns</p>\n",
       "</div>"
      ],
      "text/plain": [
       "   employment no_employees type_employer  previous_employer family_history  \\\n",
       "0       False       26-100          True               True             No   \n",
       "1       False       26-100          True               True             No   \n",
       "2       False       26-100          True               True             No   \n",
       "3       False       26-100          True               True             No   \n",
       "4       False       26-100          True               True             No   \n",
       "\n",
       "  history_mhd current_mhd mhd_condition mhd_condition2  prof_diagnosis  ...  \\\n",
       "0         Yes          No           NaN            NaN            True  ...   \n",
       "1         Yes          No           NaN            NaN            True  ...   \n",
       "2         Yes          No           NaN            NaN            True  ...   \n",
       "3         Yes          No           NaN            NaN            True  ...   \n",
       "4         Yes          No           NaN            NaN            True  ...   \n",
       "\n",
       "  treatment   age  gender age_group         country    work_country  \\\n",
       "0     False  39.0    Male     36-40  United Kingdom  United Kingdom   \n",
       "1     False  39.0    Male     36-40  United Kingdom  United Kingdom   \n",
       "2     False  39.0    Male     36-40  United Kingdom  United Kingdom   \n",
       "3     False  39.0    Male     36-40  United Kingdom  United Kingdom   \n",
       "4     False  39.0    Male     36-40  United Kingdom  United Kingdom   \n",
       "\n",
       "        work_position work_remotely  \\\n",
       "0  Back-end Developer     Sometimes   \n",
       "1  Back-end Developer     Sometimes   \n",
       "2  Back-end Developer     Sometimes   \n",
       "3  Back-end Developer     Sometimes   \n",
       "4  Back-end Developer     Sometimes   \n",
       "\n",
       "                                      question_group mental_pysical  \n",
       "0  Resources for employees with mental health dis...             No  \n",
       "1  Resources for employees with mental health dis...             No  \n",
       "2  Safe and supportive workplce for those with me...             No  \n",
       "3  Resources for employees with mental health dis...             No  \n",
       "4  Resources for employees with mental health dis...             No  \n",
       "\n",
       "[5 rows x 21 columns]"
      ]
     },
     "execution_count": 18,
     "metadata": {},
     "output_type": "execute_result"
    }
   ],
   "source": [
    "#dropping the column of role\n",
    "p_data3 = p_data2.drop(columns = ['role'])\n",
    "p_data3.head()"
   ]
  },
  {
   "cell_type": "markdown",
   "id": "ff9ee70e",
   "metadata": {},
   "source": [
    "The relationship between mhd_condition, and mhd_condition2 and mhd_condition3 all are related in terms of presence of misiing values according to our heatmap these three condition are related to current_mhd with a value of 0.6, hence dropping these columns will be a bad idea so the ideal solution will be replacing the columns with the string 'None'."
   ]
  },
  {
   "cell_type": "code",
   "execution_count": 19,
   "id": "d5bf979d",
   "metadata": {},
   "outputs": [
    {
     "data": {
      "text/html": [
       "<div>\n",
       "<style scoped>\n",
       "    .dataframe tbody tr th:only-of-type {\n",
       "        vertical-align: middle;\n",
       "    }\n",
       "\n",
       "    .dataframe tbody tr th {\n",
       "        vertical-align: top;\n",
       "    }\n",
       "\n",
       "    .dataframe thead th {\n",
       "        text-align: right;\n",
       "    }\n",
       "</style>\n",
       "<table border=\"1\" class=\"dataframe\">\n",
       "  <thead>\n",
       "    <tr style=\"text-align: right;\">\n",
       "      <th></th>\n",
       "      <th>employment</th>\n",
       "      <th>no_employees</th>\n",
       "      <th>type_employer</th>\n",
       "      <th>previous_employer</th>\n",
       "      <th>family_history</th>\n",
       "      <th>history_mhd</th>\n",
       "      <th>current_mhd</th>\n",
       "      <th>mhd_condition</th>\n",
       "      <th>mhd_condition2</th>\n",
       "      <th>prof_diagnosis</th>\n",
       "      <th>...</th>\n",
       "      <th>treatment</th>\n",
       "      <th>age</th>\n",
       "      <th>gender</th>\n",
       "      <th>age_group</th>\n",
       "      <th>country</th>\n",
       "      <th>work_country</th>\n",
       "      <th>work_position</th>\n",
       "      <th>work_remotely</th>\n",
       "      <th>question_group</th>\n",
       "      <th>mental_pysical</th>\n",
       "    </tr>\n",
       "  </thead>\n",
       "  <tbody>\n",
       "    <tr>\n",
       "      <th>0</th>\n",
       "      <td>False</td>\n",
       "      <td>26-100</td>\n",
       "      <td>True</td>\n",
       "      <td>True</td>\n",
       "      <td>No</td>\n",
       "      <td>Yes</td>\n",
       "      <td>No</td>\n",
       "      <td>None</td>\n",
       "      <td>None</td>\n",
       "      <td>True</td>\n",
       "      <td>...</td>\n",
       "      <td>False</td>\n",
       "      <td>39.0</td>\n",
       "      <td>Male</td>\n",
       "      <td>36-40</td>\n",
       "      <td>United Kingdom</td>\n",
       "      <td>United Kingdom</td>\n",
       "      <td>Back-end Developer</td>\n",
       "      <td>Sometimes</td>\n",
       "      <td>Resources for employees with mental health dis...</td>\n",
       "      <td>No</td>\n",
       "    </tr>\n",
       "    <tr>\n",
       "      <th>1</th>\n",
       "      <td>False</td>\n",
       "      <td>26-100</td>\n",
       "      <td>True</td>\n",
       "      <td>True</td>\n",
       "      <td>No</td>\n",
       "      <td>Yes</td>\n",
       "      <td>No</td>\n",
       "      <td>None</td>\n",
       "      <td>None</td>\n",
       "      <td>True</td>\n",
       "      <td>...</td>\n",
       "      <td>False</td>\n",
       "      <td>39.0</td>\n",
       "      <td>Male</td>\n",
       "      <td>36-40</td>\n",
       "      <td>United Kingdom</td>\n",
       "      <td>United Kingdom</td>\n",
       "      <td>Back-end Developer</td>\n",
       "      <td>Sometimes</td>\n",
       "      <td>Resources for employees with mental health dis...</td>\n",
       "      <td>No</td>\n",
       "    </tr>\n",
       "    <tr>\n",
       "      <th>2</th>\n",
       "      <td>False</td>\n",
       "      <td>26-100</td>\n",
       "      <td>True</td>\n",
       "      <td>True</td>\n",
       "      <td>No</td>\n",
       "      <td>Yes</td>\n",
       "      <td>No</td>\n",
       "      <td>None</td>\n",
       "      <td>None</td>\n",
       "      <td>True</td>\n",
       "      <td>...</td>\n",
       "      <td>False</td>\n",
       "      <td>39.0</td>\n",
       "      <td>Male</td>\n",
       "      <td>36-40</td>\n",
       "      <td>United Kingdom</td>\n",
       "      <td>United Kingdom</td>\n",
       "      <td>Back-end Developer</td>\n",
       "      <td>Sometimes</td>\n",
       "      <td>Safe and supportive workplce for those with me...</td>\n",
       "      <td>No</td>\n",
       "    </tr>\n",
       "    <tr>\n",
       "      <th>3</th>\n",
       "      <td>False</td>\n",
       "      <td>26-100</td>\n",
       "      <td>True</td>\n",
       "      <td>True</td>\n",
       "      <td>No</td>\n",
       "      <td>Yes</td>\n",
       "      <td>No</td>\n",
       "      <td>None</td>\n",
       "      <td>None</td>\n",
       "      <td>True</td>\n",
       "      <td>...</td>\n",
       "      <td>False</td>\n",
       "      <td>39.0</td>\n",
       "      <td>Male</td>\n",
       "      <td>36-40</td>\n",
       "      <td>United Kingdom</td>\n",
       "      <td>United Kingdom</td>\n",
       "      <td>Back-end Developer</td>\n",
       "      <td>Sometimes</td>\n",
       "      <td>Resources for employees with mental health dis...</td>\n",
       "      <td>No</td>\n",
       "    </tr>\n",
       "    <tr>\n",
       "      <th>4</th>\n",
       "      <td>False</td>\n",
       "      <td>26-100</td>\n",
       "      <td>True</td>\n",
       "      <td>True</td>\n",
       "      <td>No</td>\n",
       "      <td>Yes</td>\n",
       "      <td>No</td>\n",
       "      <td>None</td>\n",
       "      <td>None</td>\n",
       "      <td>True</td>\n",
       "      <td>...</td>\n",
       "      <td>False</td>\n",
       "      <td>39.0</td>\n",
       "      <td>Male</td>\n",
       "      <td>36-40</td>\n",
       "      <td>United Kingdom</td>\n",
       "      <td>United Kingdom</td>\n",
       "      <td>Back-end Developer</td>\n",
       "      <td>Sometimes</td>\n",
       "      <td>Resources for employees with mental health dis...</td>\n",
       "      <td>No</td>\n",
       "    </tr>\n",
       "  </tbody>\n",
       "</table>\n",
       "<p>5 rows × 21 columns</p>\n",
       "</div>"
      ],
      "text/plain": [
       "   employment no_employees type_employer  previous_employer family_history  \\\n",
       "0       False       26-100          True               True             No   \n",
       "1       False       26-100          True               True             No   \n",
       "2       False       26-100          True               True             No   \n",
       "3       False       26-100          True               True             No   \n",
       "4       False       26-100          True               True             No   \n",
       "\n",
       "  history_mhd current_mhd mhd_condition mhd_condition2  prof_diagnosis  ...  \\\n",
       "0         Yes          No          None           None            True  ...   \n",
       "1         Yes          No          None           None            True  ...   \n",
       "2         Yes          No          None           None            True  ...   \n",
       "3         Yes          No          None           None            True  ...   \n",
       "4         Yes          No          None           None            True  ...   \n",
       "\n",
       "  treatment   age  gender age_group         country    work_country  \\\n",
       "0     False  39.0    Male     36-40  United Kingdom  United Kingdom   \n",
       "1     False  39.0    Male     36-40  United Kingdom  United Kingdom   \n",
       "2     False  39.0    Male     36-40  United Kingdom  United Kingdom   \n",
       "3     False  39.0    Male     36-40  United Kingdom  United Kingdom   \n",
       "4     False  39.0    Male     36-40  United Kingdom  United Kingdom   \n",
       "\n",
       "        work_position work_remotely  \\\n",
       "0  Back-end Developer     Sometimes   \n",
       "1  Back-end Developer     Sometimes   \n",
       "2  Back-end Developer     Sometimes   \n",
       "3  Back-end Developer     Sometimes   \n",
       "4  Back-end Developer     Sometimes   \n",
       "\n",
       "                                      question_group mental_pysical  \n",
       "0  Resources for employees with mental health dis...             No  \n",
       "1  Resources for employees with mental health dis...             No  \n",
       "2  Safe and supportive workplce for those with me...             No  \n",
       "3  Resources for employees with mental health dis...             No  \n",
       "4  Resources for employees with mental health dis...             No  \n",
       "\n",
       "[5 rows x 21 columns]"
      ]
     },
     "execution_count": 19,
     "metadata": {},
     "output_type": "execute_result"
    }
   ],
   "source": [
    "#dealing with missing values in the columns stated above, column by column.\n",
    "#filling the missing values with the word None.\n",
    "p_data4 = p_data3['mhd_condition'].fillna('None')\n",
    "p_data5 = p_data3['mhd_condition2'].fillna('None')\n",
    "p_data6 = p_data3['mhd_condition3'].fillna('None')\n",
    "#replacing the column in the previous dataframe with the new column above.\n",
    "p_data3['mhd_condition'] = p_data4\n",
    "p_data3['mhd_condition2'] = p_data5\n",
    "p_data3['mhd_condition3'] = p_data6\n",
    "p_data3.head()"
   ]
  },
  {
   "cell_type": "code",
   "execution_count": 20,
   "id": "d9ec4e07",
   "metadata": {},
   "outputs": [
    {
     "data": {
      "text/plain": [
       "type_employer        12054\n",
       "no_employees         12054\n",
       "question_group        8598\n",
       "age                     84\n",
       "employment               0\n",
       "work_remotely            0\n",
       "work_position            0\n",
       "work_country             0\n",
       "country                  0\n",
       "age_group                0\n",
       "gender                   0\n",
       "mhd_condition3           0\n",
       "treatment                0\n",
       "prof_diagnosis           0\n",
       "mhd_condition2           0\n",
       "mhd_condition            0\n",
       "current_mhd              0\n",
       "history_mhd              0\n",
       "family_history           0\n",
       "previous_employer        0\n",
       "mental_pysical           0\n",
       "dtype: int64"
      ]
     },
     "execution_count": 20,
     "metadata": {},
     "output_type": "execute_result"
    }
   ],
   "source": [
    "p_data3.isnull().sum().sort_values(ascending = False)"
   ]
  },
  {
   "cell_type": "markdown",
   "id": "6f1ec69c",
   "metadata": {},
   "source": [
    "The column of age being an important column and having less than 100 missing values we will replace the missing values using the mean of the non null values."
   ]
  },
  {
   "cell_type": "code",
   "execution_count": 21,
   "id": "5ae7f3f7",
   "metadata": {},
   "outputs": [],
   "source": [
    "#dealing with the column age\n",
    "#checking the column type\n",
    "p_data3.age.dtype\n",
    "\n",
    "#checking the statistics of the column\n",
    "xv = p_data3.age.mean()\n",
    "xv\n",
    "p_data11 = p_data3.age.fillna(xv)\n",
    "p_data3['age'] = p_data11"
   ]
  },
  {
   "cell_type": "markdown",
   "id": "ca3f02da",
   "metadata": {},
   "source": [
    "The remaining columns contain strings as their elements, this leaves us with the option of filling them with values directly below or those above them."
   ]
  },
  {
   "cell_type": "code",
   "execution_count": 22,
   "id": "0940aa1c",
   "metadata": {},
   "outputs": [
    {
     "data": {
      "text/plain": [
       "employment           0\n",
       "no_employees         0\n",
       "type_employer        0\n",
       "previous_employer    0\n",
       "family_history       0\n",
       "history_mhd          0\n",
       "current_mhd          0\n",
       "mhd_condition        0\n",
       "mhd_condition2       0\n",
       "prof_diagnosis       0\n",
       "mhd_condition3       0\n",
       "treatment            0\n",
       "age                  0\n",
       "gender               0\n",
       "age_group            0\n",
       "country              0\n",
       "work_country         0\n",
       "work_position        0\n",
       "work_remotely        0\n",
       "question_group       0\n",
       "mental_pysical       0\n",
       "dtype: int64"
      ]
     },
     "execution_count": 22,
     "metadata": {},
     "output_type": "execute_result"
    }
   ],
   "source": [
    "#dealing with missing values in the remaining columns\n",
    "p_data4 = p_data3.fillna(method = 'pad')\n",
    "p_data5 = p_data4.fillna(method = 'bfill')\n",
    "p_data5.isnull().sum()"
   ]
  },
  {
   "cell_type": "markdown",
   "id": "b0d90eac",
   "metadata": {},
   "source": [
    "### Outliers."
   ]
  },
  {
   "cell_type": "markdown",
   "id": "2450ca01",
   "metadata": {},
   "source": [
    "To check for outliers in our data we will need the variables to have the correct data types i.e integer or float in the two datasets after setting them in order we will be checking the column age for the public data for outliers."
   ]
  },
  {
   "cell_type": "code",
   "execution_count": 23,
   "id": "683d7241",
   "metadata": {},
   "outputs": [
    {
     "name": "stdout",
     "output_type": "stream",
     "text": [
      "The maximum value is : 99.0 The minimum value is : 15.0\n"
     ]
    }
   ],
   "source": [
    "#checking for the maximum and minimum value in the age column\n",
    "dy = p_data5.age.max()\n",
    "dh = p_data5.age.min()\n",
    "print ('The maximum value is : ' + str(dy), \"The minimum value is : \" + str(dh))"
   ]
  },
  {
   "cell_type": "code",
   "execution_count": 24,
   "id": "d2443744",
   "metadata": {},
   "outputs": [
    {
     "data": {
      "text/plain": [
       "array([[<AxesSubplot:title={'center':'age'}>]], dtype=object)"
      ]
     },
     "execution_count": 24,
     "metadata": {},
     "output_type": "execute_result"
    },
    {
     "data": {
      "image/png": "[encoded data removed]",
      "text/plain": [
       "<Figure size 432x288 with 1 Axes>"
      ]
     },
     "metadata": {
      "needs_background": "light"
     },
     "output_type": "display_data"
    }
   ],
   "source": [
    "# Creating a histogram to visualize the outliers.\n",
    "p_data5.hist(bins = 10)"
   ]
  },
  {
   "cell_type": "code",
   "execution_count": 25,
   "id": "9661384b",
   "metadata": {},
   "outputs": [
    {
     "data": {
      "text/plain": [
       "<AxesSubplot:title={'center':'age'}, xlabel='gender'>"
      ]
     },
     "execution_count": 25,
     "metadata": {},
     "output_type": "execute_result"
    },
    {
     "data": {
      "image/png": "[encoded data removed]",
      "text/plain": [
       "<Figure size 432x288 with 1 Axes>"
      ]
     },
     "metadata": {
      "needs_background": "light"
     },
     "output_type": "display_data"
    }
   ],
   "source": [
    "#visualizing the outliers in our column age using boxplots and sorting the boxplots by gender.\n",
    "p_data5.boxplot(column = ['age'], by = 'gender', grid = False)"
   ]
  },
  {
   "cell_type": "markdown",
   "id": "35055d32",
   "metadata": {},
   "source": [
    "Having seen that there are outliers in our column age we will take the necessary steps to treat the outliers in our column. We will replace the outliers in column with their median value of the variable we will not use the mean value since it is affected by the outliers."
   ]
  },
  {
   "cell_type": "markdown",
   "id": "d32860d3",
   "metadata": {},
   "source": [
    "### Treating outliers."
   ]
  },
  {
   "cell_type": "code",
   "execution_count": 26,
   "id": "9654e63d",
   "metadata": {},
   "outputs": [
    {
     "name": "stderr",
     "output_type": "stream",
     "text": [
      "C:\\Users\\mokua\\AppData\\Local\\Temp/ipykernel_8980/475182635.py:6: UserWarning: Pandas doesn't allow columns to be created via a new attribute name - see https://pandas.pydata.org/pandas-docs/stable/indexing.html#attribute-access\n",
      "  p_data5.age1 = np.where(p_data5.age > j95, j50, p_data5.age)\n"
     ]
    },
    {
     "data": {
      "text/plain": [
       "<AxesSubplot:>"
      ]
     },
     "execution_count": 26,
     "metadata": {},
     "output_type": "execute_result"
    },
    {
     "data": {
      "image/png": "[encoded data removed]",
      "text/plain": [
       "<Figure size 432x288 with 1 Axes>"
      ]
     },
     "metadata": {
      "needs_background": "light"
     },
     "output_type": "display_data"
    }
   ],
   "source": [
    "#we will first find the 50th percentile of the variable.\n",
    "j50 = p_data5.age.quantile(0.50)\n",
    "#finding the 95th percentile of the data.\n",
    "j95 = p_data5.age.quantile(0.95)\n",
    "#we will the replace all values that are more than 95th percentile with the value of the 50th percentile\n",
    "p_data5.age1 = np.where(p_data5.age > j95, j50, p_data5.age)\n",
    "p_data5.age = pd.DataFrame(p_data5.age1)\n",
    "p_data5.age.hist()"
   ]
  },
  {
   "cell_type": "markdown",
   "id": "2f7bffa0",
   "metadata": {},
   "source": [
    "Having gotten rid of the outliers we will then proceed with our analysis."
   ]
  },
  {
   "cell_type": "markdown",
   "id": "d5a5d905",
   "metadata": {},
   "source": [
    "### Other data cleaning methods."
   ]
  },
  {
   "cell_type": "markdown",
   "id": "26f90465",
   "metadata": {},
   "source": [
    "In the gender of column the question was left open endend hence there respondents gave many answers signifying to one gender such as 'I am male' or 'Man' to signify male, we will reduce this to three specific genders that is male, female and Trans/other."
   ]
  },
  {
   "cell_type": "code",
   "execution_count": 27,
   "id": "c284cab4",
   "metadata": {},
   "outputs": [
    {
     "data": {
      "text/plain": [
       "array(['Male', 'Female', 'Other'], dtype=object)"
      ]
     },
     "execution_count": 27,
     "metadata": {},
     "output_type": "execute_result"
    }
   ],
   "source": [
    "p_data5['gender'].replace(to_replace = ['Male', 'male', 'Male ', 'M', 'm',\n",
    "       'man', 'Cis male', 'Male.', 'male 9:1 female, roughly', 'Male (cis)', 'Man', 'Sex is male',\n",
    "       'cis male', 'Malr', 'Dude', \"I'm a man why didn't you make this a drop down question. You should of asked sex? And I would of answered yes please. Seriously how much text can this take? \",\n",
    "       'mail', 'M|', 'Male/genderqueer', 'male ',\n",
    "       'Cis Male', 'Male (trans, FtM)',\n",
    "       'cisdude', 'cis man', 'MALE'], value = \"Male\", inplace = True)\n",
    "p_data5['gender'].replace(to_replace = ['Female', 'female', 'I identify as female.', 'female ',\n",
    "       'Female assigned at birth ', 'F', 'Woman', 'fm', 'f', 'Cis female ', 'Transitioned, M2F',\n",
    "       'Genderfluid (born female)', 'Female or Multi-Gender Femme', 'Female ', 'woman', 'female/woman',\n",
    "       'Cisgender Female', 'fem', 'Female (props for making this a freeform field, though)',\n",
    "       ' Female', 'Cis-woman', 'female-bodied; no feelings about gender',\n",
    "       'AFAB'], value = 'Female', inplace = True)\n",
    "p_data5['gender'].replace(to_replace = ['Bigender', 'non-binary', 'Other/Transfeminine',\n",
    "       'Androgynous', 'Other', 'nb masculine',\n",
    "       'none of your business', 'genderqueer', 'Human', 'Genderfluid',\n",
    "       'Enby', 'genderqueer woman', 'mtf', 'Queer', 'Agender', 'Fluid',\n",
    "       'Nonbinary', 'human', 'Unicorn', 'Genderqueer', 'Trans/Other',\n",
    "       'Genderflux demi-girl', 'Transgender woman'], value = 'Other', inplace = True)\n",
    "p_data5.gender.unique()"
   ]
  },
  {
   "cell_type": "markdown",
   "id": "57c917cd",
   "metadata": {},
   "source": [
    "We will then move on to the column of work_country we will be looking to remaining with the countries with the biggest number of respondents."
   ]
  },
  {
   "cell_type": "code",
   "execution_count": 28,
   "id": "91dc2c50",
   "metadata": {},
   "outputs": [
    {
     "data": {
      "text/plain": [
       "array(['UK', 'USA', 'Canada', 'Germany', 'Netherlands', 'Czech Republic',\n",
       "       'Lithuania', 'Australia', 'France', 'Venezuela', 'Poland',\n",
       "       'Belgium', 'Brazil', 'Denmark', 'Sweden', 'Russia', 'Spain',\n",
       "       'India', 'United Arab Emirates', 'Mexico', 'Switzerland', 'Norway',\n",
       "       'Argentina', 'Ireland', 'Italy', 'Finland', 'Turkey', 'Colombia',\n",
       "       'Costa Rica', 'Vietnam', 'Bulgaria', 'New Zealand', 'South Africa',\n",
       "       'Slovakia', 'Austria', 'Bangladesh', 'Pakistan', 'Afghanistan',\n",
       "       'Greece', 'Other', 'Romania', 'Brunei', 'Iran', 'Hungary',\n",
       "       'Israel', 'Japan', 'Ecuador', 'Bosnia and Herzegovina', 'China',\n",
       "       'Chile', 'Guatemala', 'Serbia', 'Estonia'], dtype=object)"
      ]
     },
     "execution_count": 28,
     "metadata": {},
     "output_type": "execute_result"
    }
   ],
   "source": [
    "#assigning the appropriate names to the columns before visualising them.\n",
    "p_data5.work_country.replace(to_replace = ['United States of America'], value = 'USA', inplace = True)\n",
    "p_data5.work_country.replace(to_replace = ['United Kingdom'], value = 'UK', inplace = True)\n",
    "p_data5.work_country.unique()"
   ]
  },
  {
   "cell_type": "code",
   "execution_count": 29,
   "id": "0c4a4775",
   "metadata": {},
   "outputs": [
    {
     "data": {
      "image/png": "[encoded data removed]",
      "text/plain": [
       "<Figure size 432x288 with 1 Axes>"
      ]
     },
     "metadata": {
      "needs_background": "light"
     },
     "output_type": "display_data"
    }
   ],
   "source": [
    "#developing a bar plot to visualize our countries an dtheir importance.\n",
    "p_data5.groupby('work_country')['age'].nunique().plot(kind='bar')\n",
    "plt.show()"
   ]
  },
  {
   "cell_type": "markdown",
   "id": "8d148f8b",
   "metadata": {},
   "source": [
    "As seen from the above bar plot we see that the top countries are USA, UK, Netherlands, Germany, Canada, Australia, france and Sweden. We will use these countries in our analysis."
   ]
  },
  {
   "cell_type": "code",
   "execution_count": 30,
   "id": "d266134e",
   "metadata": {},
   "outputs": [
    {
     "data": {
      "text/plain": [
       "(53802, 21)"
      ]
     },
     "execution_count": 30,
     "metadata": {},
     "output_type": "execute_result"
    }
   ],
   "source": [
    "p_data6 = p_data5[p_data5['work_country'].isin(['USA', 'UK', 'Netherlands', 'Germany', 'Canada', 'Australia', 'France', 'Sweden'])]\n",
    "p_data6.shape"
   ]
  },
  {
   "cell_type": "markdown",
   "id": "be171449",
   "metadata": {},
   "source": [
    "We have remained with 53,802 respondents to work with which is a substantial data for the analysis as compared with teh original number of 60,186 respondents."
   ]
  },
  {
   "cell_type": "code",
   "execution_count": 31,
   "id": "791be56d",
   "metadata": {},
   "outputs": [
    {
     "data": {
      "image/png": "[encoded data removed]",
      "text/plain": [
       "<Figure size 432x288 with 1 Axes>"
      ]
     },
     "metadata": {},
     "output_type": "display_data"
    }
   ],
   "source": [
    "#visualizing the countries that remained.\n",
    "p_data6.groupby('work_country')['age'].nunique().plot(kind='pie')\n",
    "plt.show()"
   ]
  },
  {
   "cell_type": "code",
   "execution_count": 32,
   "id": "10344e8a",
   "metadata": {},
   "outputs": [
    {
     "name": "stderr",
     "output_type": "stream",
     "text": [
      "C:\\Users\\mokua\\anaconda3\\lib\\site-packages\\seaborn\\_decorators.py:36: FutureWarning: Pass the following variable as a keyword arg: x. From version 0.12, the only valid positional argument will be `data`, and passing other arguments without an explicit keyword will result in an error or misinterpretation.\n",
      "  warnings.warn(\n"
     ]
    },
    {
     "data": {
      "text/plain": [
       "<AxesSubplot:xlabel='work_country', ylabel='count'>"
      ]
     },
     "execution_count": 32,
     "metadata": {},
     "output_type": "execute_result"
    },
    {
     "data": {
      "image/png": "[encoded data removed]",
      "text/plain": [
       "<Figure size 432x288 with 1 Axes>"
      ]
     },
     "metadata": {
      "needs_background": "light"
     },
     "output_type": "display_data"
    }
   ],
   "source": [
    "#visualizing the results above using a countplot\n",
    "sb.countplot(p_data6.work_country)"
   ]
  },
  {
   "cell_type": "markdown",
   "id": "13cc9e51",
   "metadata": {},
   "source": [
    "So far the data cleaning procedures for the survey data have been minimal, this is because most of the responses that were obtained from teh survey were controlled so as not to give errors, and there were numeric variables in the data that would make data cleaning procedures necessary."
   ]
  },
  {
   "cell_type": "markdown",
   "id": "1eecf524",
   "metadata": {},
   "source": [
    "## <font color='green'>b) Summarry statistics.</font>"
   ]
  },
  {
   "cell_type": "markdown",
   "id": "6792f8ed",
   "metadata": {},
   "source": [
    "### Number of survey reponses."
   ]
  },
  {
   "cell_type": "code",
   "execution_count": 33,
   "id": "a3fa52f9",
   "metadata": {},
   "outputs": [
    {
     "name": "stdout",
     "output_type": "stream",
     "text": [
      "The number of survey respondents is: 38\n"
     ]
    }
   ],
   "source": [
    "#checking the number of respondets in the survey data by finding the first element in the tuple\n",
    "print ('The number of survey respondents is: ' + str(s_data.shape[0]))"
   ]
  },
  {
   "cell_type": "markdown",
   "id": "6e950d64",
   "metadata": {},
   "source": [
    "### Number of observations in external data"
   ]
  },
  {
   "cell_type": "code",
   "execution_count": 34,
   "id": "2ba25011",
   "metadata": {},
   "outputs": [
    {
     "name": "stdout",
     "output_type": "stream",
     "text": [
      "The number of observations is: 60186\n"
     ]
    }
   ],
   "source": [
    "#checking the number of respondets in the survey data by finding the first element in the tuple\n",
    "print ('The number of observations is: ' + str(p_data.shape[0]))"
   ]
  },
  {
   "cell_type": "markdown",
   "id": "3a96d7f8",
   "metadata": {},
   "source": [
    "### Demographics and key variables."
   ]
  },
  {
   "cell_type": "markdown",
   "id": "0684f8ab",
   "metadata": {},
   "source": [
    "We will be checking the summary statistics for our two datasets."
   ]
  },
  {
   "cell_type": "code",
   "execution_count": 35,
   "id": "36449b84",
   "metadata": {},
   "outputs": [
    {
     "data": {
      "text/html": [
       "<div>\n",
       "<style scoped>\n",
       "    .dataframe tbody tr th:only-of-type {\n",
       "        vertical-align: middle;\n",
       "    }\n",
       "\n",
       "    .dataframe tbody tr th {\n",
       "        vertical-align: top;\n",
       "    }\n",
       "\n",
       "    .dataframe thead th {\n",
       "        text-align: right;\n",
       "    }\n",
       "</style>\n",
       "<table border=\"1\" class=\"dataframe\">\n",
       "  <thead>\n",
       "    <tr style=\"text-align: right;\">\n",
       "      <th></th>\n",
       "      <th>Age_bracket</th>\n",
       "      <th>Gender</th>\n",
       "      <th>Kenyan_citizen</th>\n",
       "      <th>County</th>\n",
       "      <th>Town</th>\n",
       "      <th>Level_of_education</th>\n",
       "      <th>Occupation</th>\n",
       "      <th>Income_level</th>\n",
       "      <th>Social_life</th>\n",
       "      <th>Responsibilities</th>\n",
       "      <th>Hospital</th>\n",
       "      <th>Mental_issues_know</th>\n",
       "      <th>Access_Facilities</th>\n",
       "      <th>Mental_Facilities_Km</th>\n",
       "      <th>Reason</th>\n",
       "    </tr>\n",
       "  </thead>\n",
       "  <tbody>\n",
       "    <tr>\n",
       "      <th>count</th>\n",
       "      <td>38</td>\n",
       "      <td>38</td>\n",
       "      <td>38</td>\n",
       "      <td>38</td>\n",
       "      <td>38</td>\n",
       "      <td>38</td>\n",
       "      <td>38</td>\n",
       "      <td>38</td>\n",
       "      <td>38</td>\n",
       "      <td>38</td>\n",
       "      <td>38</td>\n",
       "      <td>38</td>\n",
       "      <td>38</td>\n",
       "      <td>38</td>\n",
       "      <td>38</td>\n",
       "    </tr>\n",
       "    <tr>\n",
       "      <th>unique</th>\n",
       "      <td>5</td>\n",
       "      <td>2</td>\n",
       "      <td>2</td>\n",
       "      <td>7</td>\n",
       "      <td>2</td>\n",
       "      <td>5</td>\n",
       "      <td>5</td>\n",
       "      <td>3</td>\n",
       "      <td>3</td>\n",
       "      <td>5</td>\n",
       "      <td>3</td>\n",
       "      <td>3</td>\n",
       "      <td>2</td>\n",
       "      <td>2</td>\n",
       "      <td>5</td>\n",
       "    </tr>\n",
       "    <tr>\n",
       "      <th>top</th>\n",
       "      <td>26-30</td>\n",
       "      <td>Male</td>\n",
       "      <td>Yes</td>\n",
       "      <td>Nairobi</td>\n",
       "      <td>Town area</td>\n",
       "      <td>Bachelors Degree</td>\n",
       "      <td>Employed in an organization</td>\n",
       "      <td>For my age group, would consider average</td>\n",
       "      <td>Partly social</td>\n",
       "      <td>None</td>\n",
       "      <td>0-5km</td>\n",
       "      <td>Have an idea</td>\n",
       "      <td>No</td>\n",
       "      <td>No</td>\n",
       "      <td>Learn my mental health status</td>\n",
       "    </tr>\n",
       "    <tr>\n",
       "      <th>freq</th>\n",
       "      <td>26</td>\n",
       "      <td>22</td>\n",
       "      <td>37</td>\n",
       "      <td>17</td>\n",
       "      <td>25</td>\n",
       "      <td>26</td>\n",
       "      <td>25</td>\n",
       "      <td>18</td>\n",
       "      <td>29</td>\n",
       "      <td>20</td>\n",
       "      <td>30</td>\n",
       "      <td>19</td>\n",
       "      <td>24</td>\n",
       "      <td>24</td>\n",
       "      <td>17</td>\n",
       "    </tr>\n",
       "  </tbody>\n",
       "</table>\n",
       "</div>"
      ],
      "text/plain": [
       "       Age_bracket Gender Kenyan_citizen   County       Town  \\\n",
       "count           38     38             38       38         38   \n",
       "unique           5      2              2        7          2   \n",
       "top          26-30   Male            Yes  Nairobi  Town area   \n",
       "freq            26     22             37       17         25   \n",
       "\n",
       "       Level_of_education                   Occupation  \\\n",
       "count                  38                           38   \n",
       "unique                  5                            5   \n",
       "top      Bachelors Degree  Employed in an organization   \n",
       "freq                   26                           25   \n",
       "\n",
       "                                    Income_level    Social_life  \\\n",
       "count                                         38             38   \n",
       "unique                                         3              3   \n",
       "top     For my age group, would consider average  Partly social   \n",
       "freq                                          18             29   \n",
       "\n",
       "       Responsibilities Hospital Mental_issues_know Access_Facilities  \\\n",
       "count                38       38                 38                38   \n",
       "unique                5        3                  3                 2   \n",
       "top                None    0-5km       Have an idea                No   \n",
       "freq                 20       30                 19                24   \n",
       "\n",
       "       Mental_Facilities_Km                         Reason  \n",
       "count                    38                             38  \n",
       "unique                    2                              5  \n",
       "top                      No  Learn my mental health status  \n",
       "freq                     24                             17  "
      ]
     },
     "execution_count": 35,
     "metadata": {},
     "output_type": "execute_result"
    }
   ],
   "source": [
    "#checking out the summary statistics for our survey data.\n",
    "s_data.describe()"
   ]
  },
  {
   "cell_type": "code",
   "execution_count": 36,
   "id": "13ddd450",
   "metadata": {},
   "outputs": [
    {
     "data": {
      "text/plain": [
       "Index(['employment', 'no_employees', 'type_employer', 'previous_employer',\n",
       "       'family_history', 'history_mhd', 'current_mhd', 'mhd_condition',\n",
       "       'mhd_condition2', 'prof_diagnosis', 'mhd_condition3', 'treatment',\n",
       "       'age', 'gender', 'age_group', 'country', 'work_country',\n",
       "       'work_position', 'work_remotely', 'question_group', 'mental_pysical'],\n",
       "      dtype='object')"
      ]
     },
     "execution_count": 36,
     "metadata": {},
     "output_type": "execute_result"
    }
   ],
   "source": [
    "p_data6.columns"
   ]
  },
  {
   "cell_type": "code",
   "execution_count": 37,
   "id": "daaf2f82",
   "metadata": {
    "scrolled": true
   },
   "outputs": [
    {
     "data": {
      "text/html": [
       "<div>\n",
       "<style scoped>\n",
       "    .dataframe tbody tr th:only-of-type {\n",
       "        vertical-align: middle;\n",
       "    }\n",
       "\n",
       "    .dataframe tbody tr th {\n",
       "        vertical-align: top;\n",
       "    }\n",
       "\n",
       "    .dataframe thead th {\n",
       "        text-align: right;\n",
       "    }\n",
       "</style>\n",
       "<table border=\"1\" class=\"dataframe\">\n",
       "  <thead>\n",
       "    <tr style=\"text-align: right;\">\n",
       "      <th></th>\n",
       "      <th>employment</th>\n",
       "      <th>no_employees</th>\n",
       "      <th>type_employer</th>\n",
       "      <th>previous_employer</th>\n",
       "      <th>family_history</th>\n",
       "      <th>history_mhd</th>\n",
       "      <th>current_mhd</th>\n",
       "      <th>mhd_condition</th>\n",
       "      <th>mhd_condition2</th>\n",
       "      <th>prof_diagnosis</th>\n",
       "      <th>mhd_condition3</th>\n",
       "      <th>treatment</th>\n",
       "      <th>gender</th>\n",
       "      <th>age_group</th>\n",
       "      <th>country</th>\n",
       "      <th>work_country</th>\n",
       "      <th>work_position</th>\n",
       "      <th>work_remotely</th>\n",
       "      <th>question_group</th>\n",
       "      <th>mental_pysical</th>\n",
       "    </tr>\n",
       "  </thead>\n",
       "  <tbody>\n",
       "    <tr>\n",
       "      <th>count</th>\n",
       "      <td>53802</td>\n",
       "      <td>53802</td>\n",
       "      <td>53802</td>\n",
       "      <td>53802</td>\n",
       "      <td>53802</td>\n",
       "      <td>53802</td>\n",
       "      <td>53802</td>\n",
       "      <td>53802</td>\n",
       "      <td>53802</td>\n",
       "      <td>53802</td>\n",
       "      <td>53802</td>\n",
       "      <td>53802</td>\n",
       "      <td>53802</td>\n",
       "      <td>53802</td>\n",
       "      <td>53802</td>\n",
       "      <td>53802</td>\n",
       "      <td>53802</td>\n",
       "      <td>53802</td>\n",
       "      <td>53802</td>\n",
       "      <td>53802</td>\n",
       "    </tr>\n",
       "    <tr>\n",
       "      <th>unique</th>\n",
       "      <td>2</td>\n",
       "      <td>6</td>\n",
       "      <td>2</td>\n",
       "      <td>2</td>\n",
       "      <td>3</td>\n",
       "      <td>3</td>\n",
       "      <td>3</td>\n",
       "      <td>123</td>\n",
       "      <td>84</td>\n",
       "      <td>2</td>\n",
       "      <td>108</td>\n",
       "      <td>2</td>\n",
       "      <td>3</td>\n",
       "      <td>11</td>\n",
       "      <td>18</td>\n",
       "      <td>8</td>\n",
       "      <td>243</td>\n",
       "      <td>3</td>\n",
       "      <td>6</td>\n",
       "      <td>2</td>\n",
       "    </tr>\n",
       "    <tr>\n",
       "      <th>top</th>\n",
       "      <td>False</td>\n",
       "      <td>26-100</td>\n",
       "      <td>True</td>\n",
       "      <td>True</td>\n",
       "      <td>Yes</td>\n",
       "      <td>Yes</td>\n",
       "      <td>Yes</td>\n",
       "      <td>None</td>\n",
       "      <td>None</td>\n",
       "      <td>True</td>\n",
       "      <td>None</td>\n",
       "      <td>True</td>\n",
       "      <td>Male</td>\n",
       "      <td>31-35</td>\n",
       "      <td>United States of America</td>\n",
       "      <td>USA</td>\n",
       "      <td>Back-end Developer</td>\n",
       "      <td>Sometimes</td>\n",
       "      <td>Speaking openly about a mental health disorder...</td>\n",
       "      <td>No</td>\n",
       "    </tr>\n",
       "    <tr>\n",
       "      <th>freq</th>\n",
       "      <td>43554</td>\n",
       "      <td>13902</td>\n",
       "      <td>40698</td>\n",
       "      <td>47712</td>\n",
       "      <td>25788</td>\n",
       "      <td>28476</td>\n",
       "      <td>22638</td>\n",
       "      <td>31458</td>\n",
       "      <td>42084</td>\n",
       "      <td>27846</td>\n",
       "      <td>26082</td>\n",
       "      <td>32550</td>\n",
       "      <td>38682</td>\n",
       "      <td>13902</td>\n",
       "      <td>35154</td>\n",
       "      <td>35742</td>\n",
       "      <td>9744</td>\n",
       "      <td>28476</td>\n",
       "      <td>16653</td>\n",
       "      <td>40992</td>\n",
       "    </tr>\n",
       "  </tbody>\n",
       "</table>\n",
       "</div>"
      ],
      "text/plain": [
       "       employment no_employees type_employer previous_employer family_history  \\\n",
       "count       53802        53802         53802             53802          53802   \n",
       "unique          2            6             2                 2              3   \n",
       "top         False       26-100          True              True            Yes   \n",
       "freq        43554        13902         40698             47712          25788   \n",
       "\n",
       "       history_mhd current_mhd mhd_condition mhd_condition2 prof_diagnosis  \\\n",
       "count        53802       53802         53802          53802          53802   \n",
       "unique           3           3           123             84              2   \n",
       "top            Yes         Yes          None           None           True   \n",
       "freq         28476       22638         31458          42084          27846   \n",
       "\n",
       "       mhd_condition3 treatment gender age_group                   country  \\\n",
       "count           53802     53802  53802     53802                     53802   \n",
       "unique            108         2      3        11                        18   \n",
       "top              None      True   Male     31-35  United States of America   \n",
       "freq            26082     32550  38682     13902                     35154   \n",
       "\n",
       "       work_country       work_position work_remotely  \\\n",
       "count         53802               53802         53802   \n",
       "unique            8                 243             3   \n",
       "top             USA  Back-end Developer     Sometimes   \n",
       "freq          35742                9744         28476   \n",
       "\n",
       "                                           question_group mental_pysical  \n",
       "count                                               53802          53802  \n",
       "unique                                                  6              2  \n",
       "top     Speaking openly about a mental health disorder...             No  \n",
       "freq                                                16653          40992  "
      ]
     },
     "execution_count": 37,
     "metadata": {},
     "output_type": "execute_result"
    }
   ],
   "source": [
    "#summmary statistics for the publicly obtained data.\n",
    "p_data66 = p_data6.drop(['age'], axis = 1)\n",
    "p_data66.describe()"
   ]
  },
  {
   "cell_type": "code",
   "execution_count": 38,
   "id": "dff04b0c",
   "metadata": {},
   "outputs": [
    {
     "data": {
      "text/html": [
       "<div>\n",
       "<style scoped>\n",
       "    .dataframe tbody tr th:only-of-type {\n",
       "        vertical-align: middle;\n",
       "    }\n",
       "\n",
       "    .dataframe tbody tr th {\n",
       "        vertical-align: top;\n",
       "    }\n",
       "\n",
       "    .dataframe thead th {\n",
       "        text-align: right;\n",
       "    }\n",
       "</style>\n",
       "<table border=\"1\" class=\"dataframe\">\n",
       "  <thead>\n",
       "    <tr style=\"text-align: right;\">\n",
       "      <th></th>\n",
       "      <th>age</th>\n",
       "    </tr>\n",
       "  </thead>\n",
       "  <tbody>\n",
       "    <tr>\n",
       "      <th>count</th>\n",
       "      <td>53802.000000</td>\n",
       "    </tr>\n",
       "    <tr>\n",
       "      <th>mean</th>\n",
       "      <td>33.102430</td>\n",
       "    </tr>\n",
       "    <tr>\n",
       "      <th>std</th>\n",
       "      <td>6.460654</td>\n",
       "    </tr>\n",
       "    <tr>\n",
       "      <th>min</th>\n",
       "      <td>15.000000</td>\n",
       "    </tr>\n",
       "    <tr>\n",
       "      <th>25%</th>\n",
       "      <td>28.000000</td>\n",
       "    </tr>\n",
       "    <tr>\n",
       "      <th>50%</th>\n",
       "      <td>33.000000</td>\n",
       "    </tr>\n",
       "    <tr>\n",
       "      <th>75%</th>\n",
       "      <td>37.000000</td>\n",
       "    </tr>\n",
       "    <tr>\n",
       "      <th>max</th>\n",
       "      <td>49.000000</td>\n",
       "    </tr>\n",
       "  </tbody>\n",
       "</table>\n",
       "</div>"
      ],
      "text/plain": [
       "                age\n",
       "count  53802.000000\n",
       "mean      33.102430\n",
       "std        6.460654\n",
       "min       15.000000\n",
       "25%       28.000000\n",
       "50%       33.000000\n",
       "75%       37.000000\n",
       "max       49.000000"
      ]
     },
     "execution_count": 38,
     "metadata": {},
     "output_type": "execute_result"
    }
   ],
   "source": [
    "#summary statistics for the age column alone\n",
    "p_data6.describe()"
   ]
  },
  {
   "cell_type": "code",
   "execution_count": 39,
   "id": "1bc70a69",
   "metadata": {},
   "outputs": [
    {
     "data": {
      "text/plain": [
       "Index(['Age_bracket', 'Gender', 'Kenyan_citizen', 'County', 'Town',\n",
       "       'Level_of_education', 'Occupation', 'Income_level', 'Social_life',\n",
       "       'Responsibilities', 'Hospital', 'Mental_issues_know',\n",
       "       'Access_Facilities', 'Mental_Facilities_Km', 'Reason'],\n",
       "      dtype='object')"
      ]
     },
     "execution_count": 39,
     "metadata": {},
     "output_type": "execute_result"
    }
   ],
   "source": [
    "s_data.columns"
   ]
  },
  {
   "cell_type": "code",
   "execution_count": 40,
   "id": "805cf933",
   "metadata": {},
   "outputs": [
    {
     "data": {
      "text/html": [
       "<div>\n",
       "<style scoped>\n",
       "    .dataframe tbody tr th:only-of-type {\n",
       "        vertical-align: middle;\n",
       "    }\n",
       "\n",
       "    .dataframe tbody tr th {\n",
       "        vertical-align: top;\n",
       "    }\n",
       "\n",
       "    .dataframe thead th {\n",
       "        text-align: right;\n",
       "    }\n",
       "</style>\n",
       "<table border=\"1\" class=\"dataframe\">\n",
       "  <thead>\n",
       "    <tr style=\"text-align: right;\">\n",
       "      <th></th>\n",
       "      <th>Age_bracket</th>\n",
       "      <th>Gender</th>\n",
       "      <th>Kenyan_citizen</th>\n",
       "      <th>Town</th>\n",
       "      <th>Level_of_education</th>\n",
       "      <th>Occupation</th>\n",
       "      <th>Income_level</th>\n",
       "      <th>Social_life</th>\n",
       "      <th>Responsibilities</th>\n",
       "      <th>Hospital</th>\n",
       "      <th>Mental_issues_know</th>\n",
       "      <th>Access_Facilities</th>\n",
       "      <th>Mental_Facilities_Km</th>\n",
       "      <th>Reason</th>\n",
       "    </tr>\n",
       "    <tr>\n",
       "      <th>County</th>\n",
       "      <th></th>\n",
       "      <th></th>\n",
       "      <th></th>\n",
       "      <th></th>\n",
       "      <th></th>\n",
       "      <th></th>\n",
       "      <th></th>\n",
       "      <th></th>\n",
       "      <th></th>\n",
       "      <th></th>\n",
       "      <th></th>\n",
       "      <th></th>\n",
       "      <th></th>\n",
       "      <th></th>\n",
       "    </tr>\n",
       "  </thead>\n",
       "  <tbody>\n",
       "    <tr>\n",
       "      <th>Kajiado</th>\n",
       "      <td>26-30</td>\n",
       "      <td>Female</td>\n",
       "      <td>Yes</td>\n",
       "      <td>Town area</td>\n",
       "      <td>Bachelors Degree</td>\n",
       "      <td>Self-employed</td>\n",
       "      <td>For my age group, would consider average</td>\n",
       "      <td>Partly social</td>\n",
       "      <td>Prefer not to disclose</td>\n",
       "      <td>0-5km</td>\n",
       "      <td>Have an idea</td>\n",
       "      <td>No</td>\n",
       "      <td>No</td>\n",
       "      <td>Know more about the field</td>\n",
       "    </tr>\n",
       "    <tr>\n",
       "      <th>Kenya</th>\n",
       "      <td>35-40</td>\n",
       "      <td>Male</td>\n",
       "      <td>Yes</td>\n",
       "      <td>Town area</td>\n",
       "      <td>Masters Degree</td>\n",
       "      <td>Employed in an organization</td>\n",
       "      <td>For my age group, above average</td>\n",
       "      <td>Partly social</td>\n",
       "      <td>Primary carer of a child or children (under 18...</td>\n",
       "      <td>0-5km</td>\n",
       "      <td>Well knowledgeable</td>\n",
       "      <td>Yes</td>\n",
       "      <td>No</td>\n",
       "      <td>Learn my mental health status</td>\n",
       "    </tr>\n",
       "    <tr>\n",
       "      <th>Kiambu</th>\n",
       "      <td>26-30</td>\n",
       "      <td>Male</td>\n",
       "      <td>Yes</td>\n",
       "      <td>Outcasts (5km+ from main town)</td>\n",
       "      <td>Bachelors Degree</td>\n",
       "      <td>Employed in an organization</td>\n",
       "      <td>For my age group, would consider average</td>\n",
       "      <td>Partly social</td>\n",
       "      <td>None</td>\n",
       "      <td>0-5km</td>\n",
       "      <td>Have an idea</td>\n",
       "      <td>No</td>\n",
       "      <td>No</td>\n",
       "      <td>Learn my mental health status</td>\n",
       "    </tr>\n",
       "    <tr>\n",
       "      <th>Mombasa</th>\n",
       "      <td>26-30</td>\n",
       "      <td>Male</td>\n",
       "      <td>Yes</td>\n",
       "      <td>Town area</td>\n",
       "      <td>Bachelors Degree</td>\n",
       "      <td>Employed in an organization</td>\n",
       "      <td>For my age group, above average</td>\n",
       "      <td>Partly social</td>\n",
       "      <td>None</td>\n",
       "      <td>0-5km</td>\n",
       "      <td>Well knowledgeable</td>\n",
       "      <td>Yes</td>\n",
       "      <td>Yes</td>\n",
       "      <td>Learn my mental health status</td>\n",
       "    </tr>\n",
       "    <tr>\n",
       "      <th>Nairobi</th>\n",
       "      <td>41-45</td>\n",
       "      <td>Female</td>\n",
       "      <td>Yes</td>\n",
       "      <td>Town area</td>\n",
       "      <td>Bachelors Degree</td>\n",
       "      <td>Self-employed</td>\n",
       "      <td>For my age group, above average</td>\n",
       "      <td>Highly social</td>\n",
       "      <td>Primary carer of a child or children (under 18...</td>\n",
       "      <td>0-5km</td>\n",
       "      <td>Have an idea</td>\n",
       "      <td>Yes</td>\n",
       "      <td>Yes</td>\n",
       "      <td>Recommend someone close to me to the service /...</td>\n",
       "    </tr>\n",
       "    <tr>\n",
       "      <th>UAE</th>\n",
       "      <td>26-30</td>\n",
       "      <td>Male</td>\n",
       "      <td>No</td>\n",
       "      <td>Town area</td>\n",
       "      <td>Masters Degree</td>\n",
       "      <td>Employed in an organization</td>\n",
       "      <td>For my age group, above average</td>\n",
       "      <td>Partly social</td>\n",
       "      <td>None</td>\n",
       "      <td>0-5km</td>\n",
       "      <td>Well knowledgeable</td>\n",
       "      <td>Yes</td>\n",
       "      <td>Yes</td>\n",
       "      <td>Learn my mental health status</td>\n",
       "    </tr>\n",
       "    <tr>\n",
       "      <th>Uasin Gishu</th>\n",
       "      <td>50+</td>\n",
       "      <td>Female</td>\n",
       "      <td>Yes</td>\n",
       "      <td>Outcasts (5km+ from main town)</td>\n",
       "      <td>Bachelors Degree</td>\n",
       "      <td>Employed in an organization</td>\n",
       "      <td>For my age group, above average</td>\n",
       "      <td>Partly social</td>\n",
       "      <td>Primary carer of a child or children (under 18...</td>\n",
       "      <td>6-10km</td>\n",
       "      <td>Well knowledgeable</td>\n",
       "      <td>No</td>\n",
       "      <td>Yes</td>\n",
       "      <td>Seek help</td>\n",
       "    </tr>\n",
       "  </tbody>\n",
       "</table>\n",
       "</div>"
      ],
      "text/plain": [
       "            Age_bracket  Gender Kenyan_citizen  \\\n",
       "County                                           \n",
       "Kajiado           26-30  Female            Yes   \n",
       "Kenya             35-40    Male            Yes   \n",
       "Kiambu            26-30    Male            Yes   \n",
       "Mombasa           26-30    Male            Yes   \n",
       "Nairobi           41-45  Female            Yes   \n",
       "UAE               26-30    Male             No   \n",
       "Uasin Gishu         50+  Female            Yes   \n",
       "\n",
       "                                       Town Level_of_education  \\\n",
       "County                                                           \n",
       "Kajiado                           Town area   Bachelors Degree   \n",
       "Kenya                             Town area     Masters Degree   \n",
       "Kiambu       Outcasts (5km+ from main town)   Bachelors Degree   \n",
       "Mombasa                           Town area   Bachelors Degree   \n",
       "Nairobi                           Town area   Bachelors Degree   \n",
       "UAE                               Town area     Masters Degree   \n",
       "Uasin Gishu  Outcasts (5km+ from main town)   Bachelors Degree   \n",
       "\n",
       "                              Occupation  \\\n",
       "County                                     \n",
       "Kajiado                    Self-employed   \n",
       "Kenya        Employed in an organization   \n",
       "Kiambu       Employed in an organization   \n",
       "Mombasa      Employed in an organization   \n",
       "Nairobi                    Self-employed   \n",
       "UAE          Employed in an organization   \n",
       "Uasin Gishu  Employed in an organization   \n",
       "\n",
       "                                         Income_level    Social_life  \\\n",
       "County                                                                 \n",
       "Kajiado      For my age group, would consider average  Partly social   \n",
       "Kenya                 For my age group, above average  Partly social   \n",
       "Kiambu       For my age group, would consider average  Partly social   \n",
       "Mombasa               For my age group, above average  Partly social   \n",
       "Nairobi               For my age group, above average  Highly social   \n",
       "UAE                   For my age group, above average  Partly social   \n",
       "Uasin Gishu           For my age group, above average  Partly social   \n",
       "\n",
       "                                              Responsibilities Hospital  \\\n",
       "County                                                                    \n",
       "Kajiado                                 Prefer not to disclose    0-5km   \n",
       "Kenya        Primary carer of a child or children (under 18...    0-5km   \n",
       "Kiambu                                                    None    0-5km   \n",
       "Mombasa                                                   None    0-5km   \n",
       "Nairobi      Primary carer of a child or children (under 18...    0-5km   \n",
       "UAE                                                       None    0-5km   \n",
       "Uasin Gishu  Primary carer of a child or children (under 18...   6-10km   \n",
       "\n",
       "             Mental_issues_know Access_Facilities Mental_Facilities_Km  \\\n",
       "County                                                                   \n",
       "Kajiado            Have an idea                No                   No   \n",
       "Kenya        Well knowledgeable               Yes                   No   \n",
       "Kiambu             Have an idea                No                   No   \n",
       "Mombasa      Well knowledgeable               Yes                  Yes   \n",
       "Nairobi            Have an idea               Yes                  Yes   \n",
       "UAE          Well knowledgeable               Yes                  Yes   \n",
       "Uasin Gishu  Well knowledgeable                No                  Yes   \n",
       "\n",
       "                                                        Reason  \n",
       "County                                                          \n",
       "Kajiado                              Know more about the field  \n",
       "Kenya                            Learn my mental health status  \n",
       "Kiambu                           Learn my mental health status  \n",
       "Mombasa                          Learn my mental health status  \n",
       "Nairobi      Recommend someone close to me to the service /...  \n",
       "UAE                              Learn my mental health status  \n",
       "Uasin Gishu                                          Seek help  "
      ]
     },
     "execution_count": 40,
     "metadata": {},
     "output_type": "execute_result"
    }
   ],
   "source": [
    "gkk = s_data.groupby('County')\n",
    "gkk.first()"
   ]
  },
  {
   "cell_type": "code",
   "execution_count": 41,
   "id": "b09087b1",
   "metadata": {},
   "outputs": [
    {
     "data": {
      "text/plain": [
       "Index(['Age_bracket', 'Gender', 'Kenyan_citizen', 'County', 'Town',\n",
       "       'Level_of_education', 'Occupation', 'Income_level', 'Social_life',\n",
       "       'Responsibilities', 'Hospital', 'Mental_issues_know',\n",
       "       'Access_Facilities', 'Mental_Facilities_Km', 'Reason'],\n",
       "      dtype='object')"
      ]
     },
     "execution_count": 41,
     "metadata": {},
     "output_type": "execute_result"
    }
   ],
   "source": [
    "s_data.columns"
   ]
  },
  {
   "cell_type": "code",
   "execution_count": 42,
   "id": "524722bf",
   "metadata": {},
   "outputs": [
    {
     "data": {
      "text/html": [
       "<div>\n",
       "<style scoped>\n",
       "    .dataframe tbody tr th:only-of-type {\n",
       "        vertical-align: middle;\n",
       "    }\n",
       "\n",
       "    .dataframe tbody tr th {\n",
       "        vertical-align: top;\n",
       "    }\n",
       "\n",
       "    .dataframe thead th {\n",
       "        text-align: right;\n",
       "    }\n",
       "</style>\n",
       "<table border=\"1\" class=\"dataframe\">\n",
       "  <thead>\n",
       "    <tr style=\"text-align: right;\">\n",
       "      <th>Gender</th>\n",
       "      <th>Female</th>\n",
       "      <th>Male</th>\n",
       "    </tr>\n",
       "    <tr>\n",
       "      <th>Age_bracket</th>\n",
       "      <th></th>\n",
       "      <th></th>\n",
       "    </tr>\n",
       "  </thead>\n",
       "  <tbody>\n",
       "    <tr>\n",
       "      <th>18-25</th>\n",
       "      <td>0</td>\n",
       "      <td>3</td>\n",
       "    </tr>\n",
       "    <tr>\n",
       "      <th>26-30</th>\n",
       "      <td>11</td>\n",
       "      <td>15</td>\n",
       "    </tr>\n",
       "    <tr>\n",
       "      <th>35-40</th>\n",
       "      <td>1</td>\n",
       "      <td>1</td>\n",
       "    </tr>\n",
       "    <tr>\n",
       "      <th>41-45</th>\n",
       "      <td>1</td>\n",
       "      <td>2</td>\n",
       "    </tr>\n",
       "    <tr>\n",
       "      <th>50+</th>\n",
       "      <td>3</td>\n",
       "      <td>1</td>\n",
       "    </tr>\n",
       "  </tbody>\n",
       "</table>\n",
       "</div>"
      ],
      "text/plain": [
       "Gender       Female  Male\n",
       "Age_bracket              \n",
       "18-25             0     3\n",
       "26-30            11    15\n",
       "35-40             1     1\n",
       "41-45             1     2\n",
       "50+               3     1"
      ]
     },
     "execution_count": 42,
     "metadata": {},
     "output_type": "execute_result"
    }
   ],
   "source": [
    "pd.crosstab(index = s_data.Age_bracket, columns = s_data.Gender)"
   ]
  },
  {
   "cell_type": "markdown",
   "id": "dda51397",
   "metadata": {},
   "source": [
    "# <font color='blue'>4. Analysis.</font>"
   ]
  },
  {
   "cell_type": "markdown",
   "id": "d4d6cc05",
   "metadata": {},
   "source": [
    "## <font color='green'> Univariate analysis.</font>"
   ]
  },
  {
   "cell_type": "markdown",
   "id": "28758f0e",
   "metadata": {},
   "source": [
    "We will be analysing individual variables in the datasets."
   ]
  },
  {
   "cell_type": "markdown",
   "id": "fe766a44",
   "metadata": {},
   "source": [
    "### Survey data."
   ]
  },
  {
   "cell_type": "markdown",
   "id": "b5dd037d",
   "metadata": {},
   "source": [
    "The first question we will ask ourselves is what age bracket does our respondents fall into.\n"
   ]
  },
  {
   "cell_type": "code",
   "execution_count": 43,
   "id": "911a57e9",
   "metadata": {},
   "outputs": [
    {
     "data": {
      "image/png": "[encoded data removed]",
      "text/plain": [
       "<Figure size 432x288 with 1 Axes>"
      ]
     },
     "metadata": {},
     "output_type": "display_data"
    }
   ],
   "source": [
    "#findning teh age brackets for our respondents usong bars\n",
    "colors = ['#7FB3D5', '#73C6B6', '#F0B27A', '#C39BD3', '#ABEBC6', '#F4D03F']\n",
    "\n",
    "s_data['Age_bracket'].value_counts().nlargest(10).plot(kind = \"pie\", startangle = 144 ,colors = colors,explode = (0.07,0,0,0,0),autopct = '%1.1f%%')\n",
    "\n",
    "plt.title('Age brackets of our respondents')\n",
    "plt.axis('equal')\n",
    "plt.xlabel(None)\n",
    "plt.ylabel(None)\n",
    "plt.show()"
   ]
  },
  {
   "cell_type": "markdown",
   "id": "33dcb94b",
   "metadata": {},
   "source": [
    "From our pie chart above we see that 60% of our respondents are bewteen teh age of 26-30 while the least number of respondents are between the age of 35-40 years old. The next question we willa sk what is the percentage of respondets are male and female?"
   ]
  },
  {
   "cell_type": "code",
   "execution_count": 44,
   "id": "e0583c13",
   "metadata": {},
   "outputs": [
    {
     "data": {
      "image/png": "[encoded data removed]",
      "text/plain": [
       "<Figure size 432x288 with 1 Axes>"
      ]
     },
     "metadata": {
      "needs_background": "light"
     },
     "output_type": "display_data"
    }
   ],
   "source": [
    "#creating a bar plot to visualize the gender distribution.\n",
    "s_data['Gender'].value_counts().sort_values(ascending = False).plot(kind = \"bar\", color = '#7FB3D5')\n",
    "\n",
    "#naming of our title xlabel and y label of the graph\n",
    "plt.title('Gender distribution of our respondents')\n",
    "plt.xlabel('Gender')\n",
    "plt.ylabel('Number of respondents')\n",
    "set()\n",
    "plt.show()"
   ]
  },
  {
   "cell_type": "markdown",
   "id": "021edc89",
   "metadata": {},
   "source": [
    "From the plot above more than 20 respondents were male and about 15 were female. We will then look at how many respondents had knowledge about mental illnesses."
   ]
  },
  {
   "cell_type": "code",
   "execution_count": 45,
   "id": "2bec5833",
   "metadata": {},
   "outputs": [
    {
     "data": {
      "image/png": "[encoded data removed]",
      "text/plain": [
       "<Figure size 432x288 with 1 Axes>"
      ]
     },
     "metadata": {
      "needs_background": "light"
     },
     "output_type": "display_data"
    }
   ],
   "source": [
    "#using the barh kind plot to visualize the number of respondets who are aware of mental helath disoders\n",
    "s_data.Mental_issues_know.value_counts().sort_values(ascending = True).plot(kind = 'barh', color ='#ABEBC6' )\n",
    "\n",
    "#setting the labels for our title x and y\n",
    "plt.title('Respondents awareness of mental health disoders.')\n",
    "plt.xlabel('Number of respondents.')\n",
    "plt.ylabel('Level of knowledge.')\n",
    "set()\n",
    "plt.show()"
   ]
  },
  {
   "cell_type": "markdown",
   "id": "abadc9e9",
   "metadata": {},
   "source": [
    "Majority of the respondents have an idea what mental helath entails, more than 10 respondents are well knowledgeable in the field while a few that is 8 respondents have no idea what is mental health."
   ]
  },
  {
   "cell_type": "markdown",
   "id": "1fdc3c2e",
   "metadata": {},
   "source": [
    "### Public data."
   ]
  },
  {
   "cell_type": "markdown",
   "id": "3d044732",
   "metadata": {},
   "source": [
    "We will begin by looking at the country where the respondents work in."
   ]
  },
  {
   "cell_type": "code",
   "execution_count": 46,
   "id": "b7719c50",
   "metadata": {},
   "outputs": [
    {
     "data": {
      "text/plain": [
       "Index(['employment', 'no_employees', 'type_employer', 'previous_employer',\n",
       "       'family_history', 'history_mhd', 'current_mhd', 'mhd_condition',\n",
       "       'mhd_condition2', 'prof_diagnosis', 'mhd_condition3', 'treatment',\n",
       "       'age', 'gender', 'age_group', 'country', 'work_country',\n",
       "       'work_position', 'work_remotely', 'question_group', 'mental_pysical'],\n",
       "      dtype='object')"
      ]
     },
     "execution_count": 46,
     "metadata": {},
     "output_type": "execute_result"
    }
   ],
   "source": [
    "p_data6.columns"
   ]
  },
  {
   "cell_type": "code",
   "execution_count": 47,
   "id": "af774112",
   "metadata": {},
   "outputs": [
    {
     "data": {
      "image/png": "[encoded data removed]",
      "text/plain": [
       "<Figure size 504x576 with 1 Axes>"
      ]
     },
     "metadata": {
      "needs_background": "light"
     },
     "output_type": "display_data"
    }
   ],
   "source": [
    "#plotting a bar plot to visualize the countries with the most respondents.\n",
    "\n",
    "ax = p_data6.work_country.value_counts().plot(kind = 'barh', figsize = (7,8), color = '#86bf91', zorder = 2, width = 0.80)\n",
    "#naming our labels\n",
    "plt.title('Number of respondents in countries')\n",
    "plt.ylabel('Country')\n",
    "plt.xlabel('Number of respondents.')\n",
    "plt.show()\n"
   ]
  },
  {
   "cell_type": "markdown",
   "id": "bd5f1c17",
   "metadata": {},
   "source": [
    "From the plot above we have seen that the USA tops swith the number of respondnets among the eight countries with the country with the least respondnets being france. We will then move on to analyse the gender of the respondets."
   ]
  },
  {
   "cell_type": "code",
   "execution_count": 48,
   "id": "13c27019",
   "metadata": {},
   "outputs": [
    {
     "data": {
      "image/png": "[encoded data removed]",
      "text/plain": [
       "<Figure size 432x288 with 1 Axes>"
      ]
     },
     "metadata": {
      "needs_background": "light"
     },
     "output_type": "display_data"
    }
   ],
   "source": [
    "#plotting a bar plot to visualize the countries with the most respondents.\n",
    "p_data6['gender'].value_counts(ascending = False).plot(kind = \"bar\" )\n",
    "\n",
    "#naming our labels\n",
    "plt.title('Number of respondents in countries')\n",
    "plt.xlabel('Gender')\n",
    "plt.ylabel('Number of respondents.')\n",
    "plt.show()"
   ]
  },
  {
   "cell_type": "markdown",
   "id": "e7119804",
   "metadata": {},
   "source": [
    "Males have dominated the workplace in our data with more than 35000 respondents, this is followed by females who follow by 15000 respondents and then the trans/other gender closes the charpter with less than 5000 respondnets. We will then analyse if the individuals have had mental a mental disoder in the past."
   ]
  },
  {
   "cell_type": "code",
   "execution_count": 49,
   "id": "ea7b4260",
   "metadata": {},
   "outputs": [
    {
     "data": {
      "image/png": "[encoded data removed]",
      "text/plain": [
       "<Figure size 432x288 with 1 Axes>"
      ]
     },
     "metadata": {
      "needs_background": "light"
     },
     "output_type": "display_data"
    }
   ],
   "source": [
    "#visualizing the variable using horizontal bar plots\n",
    "p_data6['history_mhd'].value_counts().sort_values(ascending = True).plot(kind = \"barh\", color = '#7FB3D5')\n",
    "\n",
    "#naming our labels\n",
    "plt.title('Individuals with mental health conditions.')\n",
    "plt.xlabel('Number of respondents.')\n",
    "plt.ylabel('State of the condition.')\n",
    "plt.show()"
   ]
  },
  {
   "cell_type": "markdown",
   "id": "76c35281",
   "metadata": {},
   "source": [
    "More than 2500 respondents have a history of experiencing mental disoders, about 15000 of these respondents have never experienced mental health disorder."
   ]
  },
  {
   "cell_type": "markdown",
   "id": "4337b1f6",
   "metadata": {},
   "source": [
    "## <font color='green'>Bivaraite analysis.</font>"
   ]
  },
  {
   "cell_type": "markdown",
   "id": "464906b2",
   "metadata": {},
   "source": [
    "In the bivariate analysis we will be looking to find relationships between variables that could help us answer our research questions."
   ]
  },
  {
   "cell_type": "markdown",
   "id": "c228f9dd",
   "metadata": {},
   "source": [
    "### Public data."
   ]
  },
  {
   "cell_type": "markdown",
   "id": "a37cb35c",
   "metadata": {},
   "source": [
    "We will start the analysis of our public data by the analysis of varibles such as work country, gender age_group and the type_of_employer. We will first start with age_group and country."
   ]
  },
  {
   "cell_type": "code",
   "execution_count": 50,
   "id": "b069dbd9",
   "metadata": {},
   "outputs": [
    {
     "data": {
      "text/plain": [
       "Index(['employment', 'no_employees', 'type_employer', 'previous_employer',\n",
       "       'family_history', 'history_mhd', 'current_mhd', 'mhd_condition',\n",
       "       'mhd_condition2', 'prof_diagnosis', 'mhd_condition3', 'treatment',\n",
       "       'age', 'gender', 'age_group', 'country', 'work_country',\n",
       "       'work_position', 'work_remotely', 'question_group', 'mental_pysical'],\n",
       "      dtype='object')"
      ]
     },
     "execution_count": 50,
     "metadata": {},
     "output_type": "execute_result"
    }
   ],
   "source": [
    "p_data6.columns"
   ]
  },
  {
   "cell_type": "code",
   "execution_count": 51,
   "id": "5aef8e94",
   "metadata": {},
   "outputs": [
    {
     "data": {
      "text/plain": [
       "Text(0.5, 0, 'Countries.')"
      ]
     },
     "execution_count": 51,
     "metadata": {},
     "output_type": "execute_result"
    },
    {
     "data": {
      "image/png": "[encoded data removed]",
      "text/plain": [
       "<Figure size 1440x720 with 1 Axes>"
      ]
     },
     "metadata": {
      "needs_background": "light"
     },
     "output_type": "display_data"
    }
   ],
   "source": [
    "#creating a stacked barplot to represent the information.\n",
    "p_data61 = pd.crosstab(index = p_data6.work_country, columns = p_data6.gender)\n",
    "p_data61.plot(kind = 'bar', stacked = True, colormap = 'crest', figsize = (20, 10))\n",
    "plt.title('The distribution of genders in various countries')\n",
    "plt.ylabel('Number of repondents.')\n",
    "plt.xlabel('Countries.')"
   ]
  },
  {
   "cell_type": "markdown",
   "id": "927b9462",
   "metadata": {},
   "source": [
    "In the above stacked barplot all the three genders are represented we can see that the tech world is ruled by men since they are more than female or trans."
   ]
  },
  {
   "cell_type": "code",
   "execution_count": 52,
   "id": "40e86c88",
   "metadata": {},
   "outputs": [
    {
     "data": {
      "text/plain": [
       "Index(['employment', 'no_employees', 'type_employer', 'previous_employer',\n",
       "       'family_history', 'history_mhd', 'current_mhd', 'mhd_condition',\n",
       "       'mhd_condition2', 'prof_diagnosis', 'mhd_condition3', 'treatment',\n",
       "       'age', 'gender', 'age_group', 'country', 'work_country',\n",
       "       'work_position', 'work_remotely', 'question_group', 'mental_pysical'],\n",
       "      dtype='object')"
      ]
     },
     "execution_count": 52,
     "metadata": {},
     "output_type": "execute_result"
    }
   ],
   "source": [
    "p_data6.columns"
   ]
  },
  {
   "cell_type": "markdown",
   "id": "9581a41a",
   "metadata": {},
   "source": [
    "We can go on to plot a violin plot that displays the information about the gender and the age."
   ]
  },
  {
   "cell_type": "code",
   "execution_count": 53,
   "id": "096d4fd5",
   "metadata": {},
   "outputs": [
    {
     "data": {
      "image/png": "[encoded data removed]",
      "text/plain": [
       "<Figure size 432x288 with 1 Axes>"
      ]
     },
     "metadata": {
      "needs_background": "light"
     },
     "output_type": "display_data"
    }
   ],
   "source": [
    "sb.violinplot(x=\"gender\", y=\"age\",hue = 'prof_diagnosis', figsize = (20,10),colormap = 'crest',data=p_data5)\n",
    "plt.title('The relationship between gender, age and professional diagnosis')\n",
    "plt.show()"
   ]
  },
  {
   "cell_type": "code",
   "execution_count": null,
   "id": "129d9a6c",
   "metadata": {},
   "outputs": [],
   "source": []
  },
  {
   "cell_type": "markdown",
   "id": "4c5928b3",
   "metadata": {},
   "source": [
    "### Survey data."
   ]
  },
  {
   "cell_type": "markdown",
   "id": "50da66d3",
   "metadata": {},
   "source": [
    "We will start by checking the relationship between the age bracket and the gender."
   ]
  },
  {
   "cell_type": "code",
   "execution_count": 54,
   "id": "499ef0ed",
   "metadata": {},
   "outputs": [
    {
     "data": {
      "image/png": "[encoded data removed]",
      "text/plain": [
       "<Figure size 720x432 with 1 Axes>"
      ]
     },
     "metadata": {
      "needs_background": "light"
     },
     "output_type": "display_data"
    }
   ],
   "source": [
    "#creating a cross tabulation to display the data data labels on the plot\n",
    "s_data11 = pd.crosstab(index = s_data.Age_bracket, columns = s_data.Gender)\n",
    "\n",
    "#creating a 100% stacked table from our cross tabulation\n",
    "s_data11.plot(kind = 'bar', stacked = True, colormap = 'tab10', figsize = (10, 6))\n",
    "\n",
    "#naming our labels\n",
    "plt.xlabel('Age groups.')\n",
    "plt.ylabel('Number of respondents')\n",
    "\n",
    "#modifying our legend\n",
    "plt.legend(loc = 'upper right', ncol = 2)\n",
    "#adding the proportion to the stacks.\n",
    "plt.show()"
   ]
  },
  {
   "cell_type": "markdown",
   "id": "67bd7845",
   "metadata": {},
   "source": [
    "From the table it is clear that male are more than female respondents. however so that we can get a nice view of how they have been distributed in the age brackets we use a stacked horizontal table. Only one bracket doesnt have female responndets and that is the 18-25 age bracket."
   ]
  },
  {
   "cell_type": "code",
   "execution_count": 55,
   "id": "3b39bc24",
   "metadata": {},
   "outputs": [
    {
     "data": {
      "image/png": "[encoded data removed]",
      "text/plain": [
       "<Figure size 432x288 with 1 Axes>"
      ]
     },
     "metadata": {},
     "output_type": "display_data"
    },
    {
     "data": {
      "image/png": "[encoded data removed]",
      "text/plain": [
       "<Figure size 432x288 with 1 Axes>"
      ]
     },
     "metadata": {},
     "output_type": "display_data"
    },
    {
     "data": {
      "image/png": "[encoded data removed]",
      "text/plain": [
       "<Figure size 432x288 with 1 Axes>"
      ]
     },
     "metadata": {},
     "output_type": "display_data"
    }
   ],
   "source": [
    "#creating a crosstab for the income level and mental health awareness.\n",
    "s_data12 = pd.crosstab(index = s_data.Income_level, columns = s_data.Mental_issues_know)\n",
    "\n",
    "#plotting the pie chart for the column have an idea\n",
    "x = s_data12['Have an idea'].nlargest(10).plot(kind = \"pie\", startangle = 144 ,colormap = 'crest',explode = (0.07,0,0),shadow = True, autopct = '%1.1f%%')\n",
    "plt.ylabel(None)\n",
    "plt.title('Have an idea')\n",
    "plt.show()\n",
    "#plotting the pie chart for the column have not had a chance to check on mental health issues\n",
    "y =s_data12['Have not had a chance to check on mental health issues'].plot(kind = \"pie\",shadow = True ,startangle = 144 ,colormap = 'crest',explode = (0.07,0,0),autopct = '%1.1f%%')\n",
    "plt.ylabel(None)\n",
    "plt.title('No knowledge')\n",
    "plt.show()\n",
    "#plotting a pichart for the column Well knowledgeable\n",
    "z = s_data12['Well knowledgeable'].nlargest(10).plot(kind = \"pie\", startangle = 144 ,colormap = 'crest',explode = (0.07,0,0),shadow = True,autopct = '%1.1f%%' )\n",
    "plt.title('Well knowledgeable')\n",
    "plt.ylabel(None)\n",
    "plt.show()"
   ]
  },
  {
   "cell_type": "markdown",
   "id": "cb7bf951",
   "metadata": {},
   "source": [
    "As we have seen above the most of the people who consider their income to be below average have no knowledge regarding issues of mental helath. We will then compare the proximity to the mental health facilities with the mental health awareness."
   ]
  },
  {
   "cell_type": "code",
   "execution_count": 56,
   "id": "077beb32",
   "metadata": {},
   "outputs": [
    {
     "data": {
      "image/png": "[encoded data removed]",
      "text/plain": [
       "<Figure size 432x288 with 1 Axes>"
      ]
     },
     "metadata": {},
     "output_type": "display_data"
    },
    {
     "data": {
      "image/png": "[encoded data removed]",
      "text/plain": [
       "<Figure size 432x288 with 1 Axes>"
      ]
     },
     "metadata": {},
     "output_type": "display_data"
    },
    {
     "data": {
      "image/png": "[encoded data removed]",
      "text/plain": [
       "<Figure size 432x288 with 1 Axes>"
      ]
     },
     "metadata": {},
     "output_type": "display_data"
    }
   ],
   "source": [
    "#creating a crosstab for the income level and mental health awareness.\n",
    "s_data13 = pd.crosstab(index = s_data.Hospital, columns = s_data.Mental_issues_know)\n",
    "colors = ['#7FB3D5', '#73C6B6', '#F0B27A']\n",
    "#plotting the pie chart for the column have an idea\n",
    "x = s_data12['Have an idea'].nlargest(10).plot(kind = \"pie\", startangle = 144 ,colors = colors,shadow = True, autopct = '%1.1f%%')\n",
    "plt.ylabel(None)\n",
    "plt.title('Have an idea')\n",
    "plt.show()\n",
    "#plotting the pie chart for the column have not had a chance to check on mental health issues\n",
    "y =s_data12['Have not had a chance to check on mental health issues'].plot(kind = \"pie\",shadow = True ,startangle = 144,colors = colors,autopct = '%1.1f%%')\n",
    "plt.ylabel(None)\n",
    "plt.title('No knowledge')\n",
    "plt.show()\n",
    "#plotting a pichart for the column Well knowledgeable\n",
    "z = s_data12['Well knowledgeable'].nlargest(10).plot(kind = \"pie\", startangle = 144 ,colors = colors,shadow = True,autopct = '%1.1f%%' )\n",
    "plt.title('Well knowledgeable')\n",
    "plt.ylabel(None)\n",
    "plt.show()"
   ]
  },
  {
   "cell_type": "markdown",
   "id": "ed7698ec",
   "metadata": {},
   "source": [
    "The level of the mental health awareness increases with the smaller the distance to mental health facilities this is shown above where most of those that have an idea or are well knowledgeable about issues of mental health are closer to health facilities."
   ]
  },
  {
   "cell_type": "markdown",
   "id": "75728241",
   "metadata": {},
   "source": [
    "# <font color='blue'>5. Conclusion and evaluation.</font>"
   ]
  },
  {
   "cell_type": "markdown",
   "id": "0dbf3211",
   "metadata": {},
   "source": [
    "## <font color='green'>a) Key findings.</font>"
   ]
  },
  {
   "cell_type": "markdown",
   "id": "72ca7bdb",
   "metadata": {},
   "source": [
    "From the analysis that we have done above here are our key findings."
   ]
  },
  {
   "cell_type": "code",
   "execution_count": 57,
   "id": "ebb18335",
   "metadata": {},
   "outputs": [
    {
     "data": {
      "text/plain": [
       "Index(['employment', 'no_employees', 'type_employer', 'previous_employer',\n",
       "       'family_history', 'history_mhd', 'current_mhd', 'mhd_condition',\n",
       "       'mhd_condition2', 'prof_diagnosis', 'mhd_condition3', 'treatment',\n",
       "       'age', 'gender', 'age_group', 'country', 'work_country',\n",
       "       'work_position', 'work_remotely', 'question_group', 'mental_pysical'],\n",
       "      dtype='object')"
      ]
     },
     "execution_count": 57,
     "metadata": {},
     "output_type": "execute_result"
    }
   ],
   "source": [
    "p_data6.columns"
   ]
  },
  {
   "cell_type": "markdown",
   "id": "0c310018",
   "metadata": {},
   "source": [
    "1) Mental health disoders afecct men more then women.\n"
   ]
  },
  {
   "cell_type": "markdown",
   "id": "f0afd40f",
   "metadata": {},
   "source": [
    "a) for the public data"
   ]
  },
  {
   "cell_type": "code",
   "execution_count": 58,
   "id": "bb6267da",
   "metadata": {},
   "outputs": [
    {
     "name": "stdout",
     "output_type": "stream",
     "text": [
      "current_mhd  Maybe     No    Yes\n",
      "gender                          \n",
      "Female        2268   3906   7476\n",
      "Male          9198  15330  14154\n",
      "Other          420     42   1008\n"
     ]
    },
    {
     "data": {
      "image/png": "[encoded data removed]",
      "text/plain": [
       "<Figure size 432x288 with 1 Axes>"
      ]
     },
     "metadata": {
      "needs_background": "light"
     },
     "output_type": "display_data"
    }
   ],
   "source": [
    "df1 = pd.crosstab(index = p_data6.gender, columns = p_data6.current_mhd)\n",
    "print(df1)\n",
    "x = df1['Yes'].nlargest(10).plot(kind = \"bar\")"
   ]
  },
  {
   "cell_type": "markdown",
   "id": "8a0fbf04",
   "metadata": {},
   "source": [
    "b) for the survey data."
   ]
  },
  {
   "cell_type": "code",
   "execution_count": 59,
   "id": "cb115ea8",
   "metadata": {},
   "outputs": [
    {
     "data": {
      "text/plain": [
       "Index(['Age_bracket', 'Gender', 'Kenyan_citizen', 'County', 'Town',\n",
       "       'Level_of_education', 'Occupation', 'Income_level', 'Social_life',\n",
       "       'Responsibilities', 'Hospital', 'Mental_issues_know',\n",
       "       'Access_Facilities', 'Mental_Facilities_Km', 'Reason'],\n",
       "      dtype='object')"
      ]
     },
     "execution_count": 59,
     "metadata": {},
     "output_type": "execute_result"
    }
   ],
   "source": [
    "s_data.columns"
   ]
  },
  {
   "cell_type": "code",
   "execution_count": 60,
   "id": "67621280",
   "metadata": {},
   "outputs": [
    {
     "data": {
      "image/png": "[encoded data removed]",
      "text/plain": [
       "<Figure size 432x288 with 1 Axes>"
      ]
     },
     "metadata": {
      "needs_background": "light"
     },
     "output_type": "display_data"
    }
   ],
   "source": [
    "df2 = pd.crosstab(index = s_data.Gender, columns = s_data.Reason)\n",
    "df2\n",
    "x = df2['Learn my mental health status'].nlargest(10).plot(kind = \"bar\")"
   ]
  },
  {
   "cell_type": "markdown",
   "id": "4c4f061f",
   "metadata": {},
   "source": [
    "2) Most individuals who make low income are faced with the problem of mental helath challenges this is due to the fact that these individuals are not highly educated. Th epie charts below summarize these statements."
   ]
  },
  {
   "cell_type": "code",
   "execution_count": 61,
   "id": "575746d5",
   "metadata": {},
   "outputs": [
    {
     "data": {
      "image/png": "[encoded data removed]",
      "text/plain": [
       "<Figure size 432x288 with 1 Axes>"
      ]
     },
     "metadata": {},
     "output_type": "display_data"
    },
    {
     "data": {
      "image/png": "[encoded data removed]",
      "text/plain": [
       "<Figure size 432x288 with 1 Axes>"
      ]
     },
     "metadata": {},
     "output_type": "display_data"
    },
    {
     "data": {
      "image/png": "[encoded data removed]",
      "text/plain": [
       "<Figure size 432x288 with 1 Axes>"
      ]
     },
     "metadata": {},
     "output_type": "display_data"
    }
   ],
   "source": [
    "#creating a crosstab for the income level and mental health awareness.\n",
    "s_data12 = pd.crosstab(index = s_data.Income_level, columns = s_data.Mental_issues_know)\n",
    "\n",
    "#plotting the pie chart for the column have an idea\n",
    "x = s_data12['Have an idea'].nlargest(10).plot(kind = \"pie\", startangle = 144 ,colormap = 'crest',explode = (0.07,0,0),shadow = True, autopct = '%1.1f%%')\n",
    "plt.ylabel(None)\n",
    "plt.title('Have an idea')\n",
    "plt.show()\n",
    "#plotting the pie chart for the column have not had a chance to check on mental health issues\n",
    "y =s_data12['Have not had a chance to check on mental health issues'].plot(kind = \"pie\",shadow = True ,startangle = 144 ,colormap = 'crest',explode = (0.07,0,0),autopct = '%1.1f%%')\n",
    "plt.ylabel(None)\n",
    "plt.title('No knowledge')\n",
    "plt.show()\n",
    "#plotting a pichart for the column Well knowledgeable\n",
    "z = s_data12['Well knowledgeable'].nlargest(10).plot(kind = \"pie\", startangle = 144 ,colormap = 'crest',explode = (0.07,0,0),shadow = True,autopct = '%1.1f%%' )\n",
    "plt.title('Well knowledgeable')\n",
    "plt.ylabel(None)\n",
    "plt.show()"
   ]
  },
  {
   "cell_type": "markdown",
   "id": "8f8d92c0",
   "metadata": {},
   "source": [
    "## <font color='green'>b) Future directions.</font>"
   ]
  },
  {
   "cell_type": "markdown",
   "id": "9e5f525f",
   "metadata": {},
   "source": [
    "In the current time the challenges of accesing credible medical data is a great chaalllenge to analysts, this is due tio the fact that medical data is very sensitive and given the current conditions of cooporations such as facebook being sued for data breach cases the future is going to be tougher. With enough medical data in the low and middle income countries we can use it to study the trajectories of mental health disoders in the world. "
   ]
  },
  {
   "cell_type": "markdown",
   "id": "337aed38",
   "metadata": {},
   "source": [
    "## <font color='green'>c) Evaluation.</font>"
   ]
  },
  {
   "cell_type": "markdown",
   "id": "9e7858ad",
   "metadata": {},
   "source": [
    "The problem of mental health awarenes and mental helath in the workplace will continue to affect every individual to different proportions, unless the necessary strategies are put in place so as to tackle the problem then we will continue to experience higher suicide rates among individuals.\n",
    "\n",
    "With the problems that have been seen in the code such as limited education can increase the individuals risk to being susceptiblle to mental health disoders we the government will need to encourage its population to acquire an education sop as to avoid challebges that come with low income. The living standards of individuals will also need to be improved so that hey can make a decent living to avoid mental disoders.\n",
    "\n",
    "Employers will need to incraese improve on their way on how they handle mental health challenges in the workplace so that they can create a safe environment for their employees."
   ]
  },
  {
   "cell_type": "markdown",
   "id": "40429da5",
   "metadata": {},
   "source": [
    "## <font color='green'>d) Future improvements.</font>"
   ]
  },
  {
   "cell_type": "markdown",
   "id": "a3d235eb",
   "metadata": {},
   "source": [
    "The survey should have a more ambitious sample population i.e., x >5,000 considering Kenya’s population of 52 million with response rate of +-5% of the current study’s rate. To achieve this, the survey should be made available in all social media platforms with the responds encouraged to share amongst family and friends. A USSD survey format should also be used for those with limited internet connections.\n",
    "\n",
    "In the current time the challenges of accesing credible medical data is a great chaalllenge to analysts, this is due tio the fact that medical data is very sensitive and given the current conditions of cooporations such as facebook being sued for data breach cases the future is going to be tougher. With enough medical data in the low and middle income countries we can use it to study the trajectories of mental health disoders in the world."
   ]
  },
  {
   "cell_type": "code",
   "execution_count": null,
   "id": "65bf96a4",
   "metadata": {},
   "outputs": [],
   "source": []
  },
  {
   "cell_type": "code",
   "execution_count": null,
   "id": "1d3e1b8d",
   "metadata": {},
   "outputs": [],
   "source": []
  },
  {
   "cell_type": "markdown",
   "id": "daa3661c",
   "metadata": {},
   "source": [
    "# 6. References"
   ]
  },
  {
   "cell_type": "markdown",
   "id": "90b1e9ff",
   "metadata": {},
   "source": [
    "   - Saloni Dattani, Hannah Ritchie and Max Roser (2021) - \"Mental Health\". Published online at OurWorldInData.org. Retrieved from: 'https://ourworldindata.org/mental-health' [Online Resource]\n",
    "     - Matt ritchel (2021) - \"Surgeon General Warns of Youth Mental Health Crisis\". Published online at nytimes.com. Retrived from \n",
    " https://www.nytimes.com/2021/12/07/science/pandemic-adolescents-depression-anxiety.html. [Online source]\n",
    "     - 'Suicide' published online at who.int. on 17th June 2021. Retrived from https://www.who.int/news-room/fact-sheets/detail/suicide. [Online source]\n",
    "     - World health organization: mental disorders, 28th November 2019.\n",
    "    - MIT news, Massachusetts institute of technology (MIT): Toward a smarter electronic health record, adam zewe, 23rd September 2021.\n",
    "    - Springer link: 2D MRI image analysis and brain tumor detection using deep learning CNN model hari mohan rai and kalyan Charterjee 36111-36141(2021).\n",
    "    - WHO: suicide 17th June 2021\n",
    "    --Www.psychiatry.org American psychiatric association: stigma prejudice and discrimination against people with mental illness.\n",
    "    - Www.statista.com Aron O’Neill: age structure in Kenya.\n",
    "    - Www.mentalhealth.gov What is mental health? 5th August 2020\n",
    "     - Www.thriveworks.com Definition of mental health according to the DSM-V\n",
    "     - Nay Chi Lynn, Zin Mar Kyu \"Segmentation and Classification of Skin Cancer Melanoma from Skin Lesion Images” 18th International Conference on Parallel and Distributed Computing, Applications and Technologies (PDCAT), 2017\n",
    "\n",
    "   - Whiteford HA, Degenhardt L, Rehm J, et al. Global burden of disease attributable to mental and substance use disorders: findings from the Global Burden of Disease Study 2010. Lancet 2013;382:1575-1586\n"
   ]
  },
  {
   "cell_type": "markdown",
   "id": "899c922a",
   "metadata": {},
   "source": [
    "# Word count"
   ]
  },
  {
   "cell_type": "code",
   "execution_count": 62,
   "id": "f182a3bd",
   "metadata": {},
   "outputs": [
    {
     "data": {
      "application/javascript": [
       "\n",
       " //Run this cell to update your word count.\n",
       "\n",
       "function wordcount() {\n",
       "    let wordCount = 0\n",
       "    let extraCount = 0\n",
       "    let mainBody = true\n",
       "\n",
       "    let cells = Jupyter.notebook.get_cells()\n",
       "    cells.forEach((cell) => {\n",
       "        if (cell.cell_type == 'markdown') {\n",
       "            let text = cell.get_text()\n",
       "            //Stop counting as main body when get to References or Appendices.\n",
       "            if (text.startsWith('# 6. References') ||\n",
       "                text.startsWith('### Variable descfription.')) {\n",
       "                mainBody = false\n",
       "            }\n",
       "            if (text.startsWith('## Word Coun4t')) {\n",
       "                text = ''\n",
       "            }\n",
       "            if (text) {\n",
       "                let words = text.toLowerCase().match(/\\b[a-z\\d]+\\b/g)\n",
       "                if (words) {\n",
       "                    let cellCount = words.length\n",
       "                    if (mainBody) {\n",
       "                        wordCount += cellCount\n",
       "                    } else {\n",
       "                        extraCount += cellCount\n",
       "                    }\n",
       "                }\n",
       "            }\n",
       "        }\n",
       "        \n",
       "    })\n",
       "    return [wordCount, extraCount]\n",
       "}\n",
       "\n",
       "let wc = wordcount()\n",
       "element.append(`Main word count: ${wc[0]} (References and appendices word count: ${wc[1]})`)\n"
      ],
      "text/plain": [
       "<IPython.core.display.Javascript object>"
      ]
     },
     "metadata": {},
     "output_type": "display_data"
    }
   ],
   "source": [
    "%%js\n",
    "\n",
    " //Run this cell to update your word count.\n",
    "\n",
    "function wordcount() {\n",
    "    let wordCount = 0\n",
    "    let extraCount = 0\n",
    "    let mainBody = true\n",
    "\n",
    "    let cells = Jupyter.notebook.get_cells()\n",
    "    cells.forEach((cell) => {\n",
    "        if (cell.cell_type == 'markdown') {\n",
    "            let text = cell.get_text()\n",
    "            //Stop counting as main body when get to References or Appendices.\n",
    "            if (text.startsWith('# 6. References') ||\n",
    "                text.startsWith('### Variable descfription.')) {\n",
    "                mainBody = false\n",
    "            }\n",
    "            if (text.startsWith('## Word Coun4t')) {\n",
    "                text = ''\n",
    "            }\n",
    "            if (text) {\n",
    "                let words = text.toLowerCase().match(/\\b[a-z\\d]+\\b/g)\n",
    "                if (words) {\n",
    "                    let cellCount = words.length\n",
    "                    if (mainBody) {\n",
    "                        wordCount += cellCount\n",
    "                    } else {\n",
    "                        extraCount += cellCount\n",
    "                    }\n",
    "                }\n",
    "            }\n",
    "        }\n",
    "        \n",
    "    })\n",
    "    return [wordCount, extraCount]\n",
    "}\n",
    "\n",
    "let wc = wordcount()\n",
    "element.append(`Main word count: ${wc[0]} (References and appendices word count: ${wc[1]})`)"
   ]
  }
 ],
 "metadata": {
  "kernelspec": {
   "display_name": "Python 3",
   "language": "python",
   "name": "python3"
  },
  "language_info": {
   "codemirror_mode": {
    "name": "ipython",
    "version": 3
   },
   "file_extension": ".py",
   "mimetype": "text/x-python",
   "name": "python",
   "nbconvert_exporter": "python",
   "pygments_lexer": "ipython3",
   "version": "3.8.8"
  }
 },
 "nbformat": 4,
 "nbformat_minor": 5
}
